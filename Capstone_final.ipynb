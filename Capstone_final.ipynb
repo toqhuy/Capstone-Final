{
 "cells": [
  {
   "cell_type": "markdown",
   "metadata": {},
   "source": [
    "# Project: Best place to open a Vietnamese restaurant in Toronto\n",
    "##  Introduction/Business Problem \n",
    "A new businessman who has just arrived to Toronto, Ontario, Canada and wants to open a Vietnamese restaurant. However, there are too many Vietnamese restaurants, as well as Asian restaurants in Toronto. This project will find out the best neighborhood in Toronto to open a Vietnamese restaurant.\n",
    "The best locations will have no or very few Vietnamese restaurants, and have many non-Vietnamese restaurants to guarantee amount of customers.\n",
    "## Data\n",
    "- Data on Vietnamese restaurants and other restaurants on each neighborhood will be obtained using foursquare API\n",
    "- K-mean will be used to create zones of good neighborhoods for opening the restaurants"
   ]
  },
  {
   "cell_type": "code",
   "execution_count": 32,
   "metadata": {},
   "outputs": [],
   "source": [
    "import pandas as pd\n",
    "import numpy as np\n",
    "from geopy.geocoders import Nominatim\n",
    "import matplotlib.cm as cm\n",
    "import matplotlib.colors as colors\n",
    "from sklearn.cluster import KMeans\n",
    "import folium\n",
    "import json\n",
    "import requests"
   ]
  },
  {
   "cell_type": "markdown",
   "metadata": {},
   "source": [
    "### Extract data using pandas"
   ]
  },
  {
   "cell_type": "code",
   "execution_count": 33,
   "metadata": {
    "scrolled": true
   },
   "outputs": [
    {
     "data": {
      "text/html": [
       "<div>\n",
       "<style scoped>\n",
       "    .dataframe tbody tr th:only-of-type {\n",
       "        vertical-align: middle;\n",
       "    }\n",
       "\n",
       "    .dataframe tbody tr th {\n",
       "        vertical-align: top;\n",
       "    }\n",
       "\n",
       "    .dataframe thead th {\n",
       "        text-align: right;\n",
       "    }\n",
       "</style>\n",
       "<table border=\"1\" class=\"dataframe\">\n",
       "  <thead>\n",
       "    <tr style=\"text-align: right;\">\n",
       "      <th></th>\n",
       "      <th>Postal Code</th>\n",
       "      <th>Borough</th>\n",
       "      <th>Neighbourhood</th>\n",
       "    </tr>\n",
       "  </thead>\n",
       "  <tbody>\n",
       "    <tr>\n",
       "      <th>0</th>\n",
       "      <td>M1A</td>\n",
       "      <td>Not assigned</td>\n",
       "      <td>Not assigned</td>\n",
       "    </tr>\n",
       "    <tr>\n",
       "      <th>1</th>\n",
       "      <td>M2A</td>\n",
       "      <td>Not assigned</td>\n",
       "      <td>Not assigned</td>\n",
       "    </tr>\n",
       "    <tr>\n",
       "      <th>2</th>\n",
       "      <td>M3A</td>\n",
       "      <td>North York</td>\n",
       "      <td>Parkwoods</td>\n",
       "    </tr>\n",
       "    <tr>\n",
       "      <th>3</th>\n",
       "      <td>M4A</td>\n",
       "      <td>North York</td>\n",
       "      <td>Victoria Village</td>\n",
       "    </tr>\n",
       "    <tr>\n",
       "      <th>4</th>\n",
       "      <td>M5A</td>\n",
       "      <td>Downtown Toronto</td>\n",
       "      <td>Regent Park, Harbourfront</td>\n",
       "    </tr>\n",
       "  </tbody>\n",
       "</table>\n",
       "</div>"
      ],
      "text/plain": [
       "  Postal Code           Borough              Neighbourhood\n",
       "0         M1A      Not assigned               Not assigned\n",
       "1         M2A      Not assigned               Not assigned\n",
       "2         M3A        North York                  Parkwoods\n",
       "3         M4A        North York           Victoria Village\n",
       "4         M5A  Downtown Toronto  Regent Park, Harbourfront"
      ]
     },
     "execution_count": 33,
     "metadata": {},
     "output_type": "execute_result"
    }
   ],
   "source": [
    "page = 'https://en.wikipedia.org/wiki/List_of_postal_codes_of_Canada:_M'\n",
    "table = pd.read_html(page)[0]\n",
    "table.head()"
   ]
  },
  {
   "cell_type": "markdown",
   "metadata": {},
   "source": [
    "### drop rows that have Borough='Not assigned'"
   ]
  },
  {
   "cell_type": "code",
   "execution_count": 34,
   "metadata": {},
   "outputs": [],
   "source": [
    "df = table.drop(table[table.Borough=='Not assigned'].index)"
   ]
  },
  {
   "cell_type": "code",
   "execution_count": 35,
   "metadata": {},
   "outputs": [],
   "source": [
    "df = df.reset_index(drop=True)\n",
    "df = df.rename(columns = {'Neighbourhood': 'Neighborhood'})"
   ]
  },
  {
   "cell_type": "code",
   "execution_count": 36,
   "metadata": {},
   "outputs": [
    {
     "data": {
      "text/html": [
       "<div>\n",
       "<style scoped>\n",
       "    .dataframe tbody tr th:only-of-type {\n",
       "        vertical-align: middle;\n",
       "    }\n",
       "\n",
       "    .dataframe tbody tr th {\n",
       "        vertical-align: top;\n",
       "    }\n",
       "\n",
       "    .dataframe thead th {\n",
       "        text-align: right;\n",
       "    }\n",
       "</style>\n",
       "<table border=\"1\" class=\"dataframe\">\n",
       "  <thead>\n",
       "    <tr style=\"text-align: right;\">\n",
       "      <th></th>\n",
       "      <th>Postal Code</th>\n",
       "      <th>Borough</th>\n",
       "      <th>Neighborhood</th>\n",
       "    </tr>\n",
       "  </thead>\n",
       "  <tbody>\n",
       "    <tr>\n",
       "      <th>0</th>\n",
       "      <td>M3A</td>\n",
       "      <td>North York</td>\n",
       "      <td>Parkwoods</td>\n",
       "    </tr>\n",
       "    <tr>\n",
       "      <th>1</th>\n",
       "      <td>M4A</td>\n",
       "      <td>North York</td>\n",
       "      <td>Victoria Village</td>\n",
       "    </tr>\n",
       "    <tr>\n",
       "      <th>2</th>\n",
       "      <td>M5A</td>\n",
       "      <td>Downtown Toronto</td>\n",
       "      <td>Regent Park, Harbourfront</td>\n",
       "    </tr>\n",
       "    <tr>\n",
       "      <th>3</th>\n",
       "      <td>M6A</td>\n",
       "      <td>North York</td>\n",
       "      <td>Lawrence Manor, Lawrence Heights</td>\n",
       "    </tr>\n",
       "    <tr>\n",
       "      <th>4</th>\n",
       "      <td>M7A</td>\n",
       "      <td>Downtown Toronto</td>\n",
       "      <td>Queen's Park, Ontario Provincial Government</td>\n",
       "    </tr>\n",
       "    <tr>\n",
       "      <th>...</th>\n",
       "      <td>...</td>\n",
       "      <td>...</td>\n",
       "      <td>...</td>\n",
       "    </tr>\n",
       "    <tr>\n",
       "      <th>98</th>\n",
       "      <td>M8X</td>\n",
       "      <td>Etobicoke</td>\n",
       "      <td>The Kingsway, Montgomery Road, Old Mill North</td>\n",
       "    </tr>\n",
       "    <tr>\n",
       "      <th>99</th>\n",
       "      <td>M4Y</td>\n",
       "      <td>Downtown Toronto</td>\n",
       "      <td>Church and Wellesley</td>\n",
       "    </tr>\n",
       "    <tr>\n",
       "      <th>100</th>\n",
       "      <td>M7Y</td>\n",
       "      <td>East Toronto</td>\n",
       "      <td>Business reply mail Processing Centre, South C...</td>\n",
       "    </tr>\n",
       "    <tr>\n",
       "      <th>101</th>\n",
       "      <td>M8Y</td>\n",
       "      <td>Etobicoke</td>\n",
       "      <td>Old Mill South, King's Mill Park, Sunnylea, Hu...</td>\n",
       "    </tr>\n",
       "    <tr>\n",
       "      <th>102</th>\n",
       "      <td>M8Z</td>\n",
       "      <td>Etobicoke</td>\n",
       "      <td>Mimico NW, The Queensway West, South of Bloor,...</td>\n",
       "    </tr>\n",
       "  </tbody>\n",
       "</table>\n",
       "<p>103 rows × 3 columns</p>\n",
       "</div>"
      ],
      "text/plain": [
       "    Postal Code           Borough  \\\n",
       "0           M3A        North York   \n",
       "1           M4A        North York   \n",
       "2           M5A  Downtown Toronto   \n",
       "3           M6A        North York   \n",
       "4           M7A  Downtown Toronto   \n",
       "..          ...               ...   \n",
       "98          M8X         Etobicoke   \n",
       "99          M4Y  Downtown Toronto   \n",
       "100         M7Y      East Toronto   \n",
       "101         M8Y         Etobicoke   \n",
       "102         M8Z         Etobicoke   \n",
       "\n",
       "                                          Neighborhood  \n",
       "0                                            Parkwoods  \n",
       "1                                     Victoria Village  \n",
       "2                            Regent Park, Harbourfront  \n",
       "3                     Lawrence Manor, Lawrence Heights  \n",
       "4          Queen's Park, Ontario Provincial Government  \n",
       "..                                                 ...  \n",
       "98       The Kingsway, Montgomery Road, Old Mill North  \n",
       "99                                Church and Wellesley  \n",
       "100  Business reply mail Processing Centre, South C...  \n",
       "101  Old Mill South, King's Mill Park, Sunnylea, Hu...  \n",
       "102  Mimico NW, The Queensway West, South of Bloor,...  \n",
       "\n",
       "[103 rows x 3 columns]"
      ]
     },
     "execution_count": 36,
     "metadata": {},
     "output_type": "execute_result"
    }
   ],
   "source": [
    "df"
   ]
  },
  {
   "cell_type": "markdown",
   "metadata": {},
   "source": [
    "## read the latitude and longitude into data frame"
   ]
  },
  {
   "cell_type": "code",
   "execution_count": 37,
   "metadata": {},
   "outputs": [],
   "source": [
    "geo = pd.read_csv('Geospatial_Coordinates.csv')"
   ]
  },
  {
   "cell_type": "code",
   "execution_count": 38,
   "metadata": {},
   "outputs": [
    {
     "data": {
      "text/plain": [
       "(103, 3)"
      ]
     },
     "execution_count": 38,
     "metadata": {},
     "output_type": "execute_result"
    }
   ],
   "source": [
    "geo.shape"
   ]
  },
  {
   "cell_type": "code",
   "execution_count": 39,
   "metadata": {},
   "outputs": [
    {
     "data": {
      "text/html": [
       "<div>\n",
       "<style scoped>\n",
       "    .dataframe tbody tr th:only-of-type {\n",
       "        vertical-align: middle;\n",
       "    }\n",
       "\n",
       "    .dataframe tbody tr th {\n",
       "        vertical-align: top;\n",
       "    }\n",
       "\n",
       "    .dataframe thead th {\n",
       "        text-align: right;\n",
       "    }\n",
       "</style>\n",
       "<table border=\"1\" class=\"dataframe\">\n",
       "  <thead>\n",
       "    <tr style=\"text-align: right;\">\n",
       "      <th></th>\n",
       "      <th>Postal Code</th>\n",
       "      <th>Latitude</th>\n",
       "      <th>Longitude</th>\n",
       "    </tr>\n",
       "  </thead>\n",
       "  <tbody>\n",
       "    <tr>\n",
       "      <th>0</th>\n",
       "      <td>M1B</td>\n",
       "      <td>43.806686</td>\n",
       "      <td>-79.194353</td>\n",
       "    </tr>\n",
       "    <tr>\n",
       "      <th>1</th>\n",
       "      <td>M1C</td>\n",
       "      <td>43.784535</td>\n",
       "      <td>-79.160497</td>\n",
       "    </tr>\n",
       "    <tr>\n",
       "      <th>2</th>\n",
       "      <td>M1E</td>\n",
       "      <td>43.763573</td>\n",
       "      <td>-79.188711</td>\n",
       "    </tr>\n",
       "    <tr>\n",
       "      <th>3</th>\n",
       "      <td>M1G</td>\n",
       "      <td>43.770992</td>\n",
       "      <td>-79.216917</td>\n",
       "    </tr>\n",
       "    <tr>\n",
       "      <th>4</th>\n",
       "      <td>M1H</td>\n",
       "      <td>43.773136</td>\n",
       "      <td>-79.239476</td>\n",
       "    </tr>\n",
       "  </tbody>\n",
       "</table>\n",
       "</div>"
      ],
      "text/plain": [
       "  Postal Code   Latitude  Longitude\n",
       "0         M1B  43.806686 -79.194353\n",
       "1         M1C  43.784535 -79.160497\n",
       "2         M1E  43.763573 -79.188711\n",
       "3         M1G  43.770992 -79.216917\n",
       "4         M1H  43.773136 -79.239476"
      ]
     },
     "execution_count": 39,
     "metadata": {},
     "output_type": "execute_result"
    }
   ],
   "source": [
    "geo.head()"
   ]
  },
  {
   "cell_type": "markdown",
   "metadata": {},
   "source": [
    "## merge two dataframes based on postal code"
   ]
  },
  {
   "cell_type": "code",
   "execution_count": 40,
   "metadata": {},
   "outputs": [],
   "source": [
    "neighborhoods = pd.merge(df, geo, on='Postal Code')"
   ]
  },
  {
   "cell_type": "code",
   "execution_count": 41,
   "metadata": {},
   "outputs": [
    {
     "data": {
      "text/plain": [
       "(103, 5)"
      ]
     },
     "execution_count": 41,
     "metadata": {},
     "output_type": "execute_result"
    }
   ],
   "source": [
    "neighborhoods.shape"
   ]
  },
  {
   "cell_type": "code",
   "execution_count": 42,
   "metadata": {
    "scrolled": false
   },
   "outputs": [
    {
     "data": {
      "text/html": [
       "<div>\n",
       "<style scoped>\n",
       "    .dataframe tbody tr th:only-of-type {\n",
       "        vertical-align: middle;\n",
       "    }\n",
       "\n",
       "    .dataframe tbody tr th {\n",
       "        vertical-align: top;\n",
       "    }\n",
       "\n",
       "    .dataframe thead th {\n",
       "        text-align: right;\n",
       "    }\n",
       "</style>\n",
       "<table border=\"1\" class=\"dataframe\">\n",
       "  <thead>\n",
       "    <tr style=\"text-align: right;\">\n",
       "      <th></th>\n",
       "      <th>Postal Code</th>\n",
       "      <th>Borough</th>\n",
       "      <th>Neighborhood</th>\n",
       "      <th>Latitude</th>\n",
       "      <th>Longitude</th>\n",
       "    </tr>\n",
       "  </thead>\n",
       "  <tbody>\n",
       "    <tr>\n",
       "      <th>0</th>\n",
       "      <td>M3A</td>\n",
       "      <td>North York</td>\n",
       "      <td>Parkwoods</td>\n",
       "      <td>43.753259</td>\n",
       "      <td>-79.329656</td>\n",
       "    </tr>\n",
       "    <tr>\n",
       "      <th>1</th>\n",
       "      <td>M4A</td>\n",
       "      <td>North York</td>\n",
       "      <td>Victoria Village</td>\n",
       "      <td>43.725882</td>\n",
       "      <td>-79.315572</td>\n",
       "    </tr>\n",
       "    <tr>\n",
       "      <th>2</th>\n",
       "      <td>M5A</td>\n",
       "      <td>Downtown Toronto</td>\n",
       "      <td>Regent Park, Harbourfront</td>\n",
       "      <td>43.654260</td>\n",
       "      <td>-79.360636</td>\n",
       "    </tr>\n",
       "    <tr>\n",
       "      <th>3</th>\n",
       "      <td>M6A</td>\n",
       "      <td>North York</td>\n",
       "      <td>Lawrence Manor, Lawrence Heights</td>\n",
       "      <td>43.718518</td>\n",
       "      <td>-79.464763</td>\n",
       "    </tr>\n",
       "    <tr>\n",
       "      <th>4</th>\n",
       "      <td>M7A</td>\n",
       "      <td>Downtown Toronto</td>\n",
       "      <td>Queen's Park, Ontario Provincial Government</td>\n",
       "      <td>43.662301</td>\n",
       "      <td>-79.389494</td>\n",
       "    </tr>\n",
       "  </tbody>\n",
       "</table>\n",
       "</div>"
      ],
      "text/plain": [
       "  Postal Code           Borough                                 Neighborhood  \\\n",
       "0         M3A        North York                                    Parkwoods   \n",
       "1         M4A        North York                             Victoria Village   \n",
       "2         M5A  Downtown Toronto                    Regent Park, Harbourfront   \n",
       "3         M6A        North York             Lawrence Manor, Lawrence Heights   \n",
       "4         M7A  Downtown Toronto  Queen's Park, Ontario Provincial Government   \n",
       "\n",
       "    Latitude  Longitude  \n",
       "0  43.753259 -79.329656  \n",
       "1  43.725882 -79.315572  \n",
       "2  43.654260 -79.360636  \n",
       "3  43.718518 -79.464763  \n",
       "4  43.662301 -79.389494  "
      ]
     },
     "execution_count": 42,
     "metadata": {},
     "output_type": "execute_result"
    }
   ],
   "source": [
    "neighborhoods.head()"
   ]
  },
  {
   "cell_type": "markdown",
   "metadata": {},
   "source": [
    "# now let's explore neighborhoods in Toronto"
   ]
  },
  {
   "cell_type": "code",
   "execution_count": 43,
   "metadata": {
    "scrolled": false
   },
   "outputs": [
    {
     "data": {
      "text/plain": [
       "North York          24\n",
       "Downtown Toronto    19\n",
       "Scarborough         17\n",
       "Etobicoke           12\n",
       "Central Toronto      9\n",
       "West Toronto         6\n",
       "East Toronto         5\n",
       "York                 5\n",
       "East York            5\n",
       "Mississauga          1\n",
       "Name: Borough, dtype: int64"
      ]
     },
     "execution_count": 43,
     "metadata": {},
     "output_type": "execute_result"
    }
   ],
   "source": [
    "neighborhoods['Borough'].value_counts()"
   ]
  },
  {
   "cell_type": "code",
   "execution_count": 44,
   "metadata": {},
   "outputs": [
    {
     "name": "stdout",
     "output_type": "stream",
     "text": [
      "The geograpical coordinate of Toronto are 43.6534817, -79.3839347.\n"
     ]
    }
   ],
   "source": [
    "\n",
    "address = 'Toronto, Ontario'\n",
    "\n",
    "geolocator = Nominatim(user_agent=\"ny_explorer\")\n",
    "location = geolocator.geocode(address)\n",
    "latitude = location.latitude\n",
    "longitude = location.longitude\n",
    "print('The geograpical coordinate of Toronto are {}, {}.'.format(latitude, longitude))"
   ]
  },
  {
   "cell_type": "code",
   "execution_count": 45,
   "metadata": {},
   "outputs": [
    {
     "name": "stdout",
     "output_type": "stream",
     "text": [
      "The dataframe has 10 boroughs and 103 neighborhoods.\n"
     ]
    }
   ],
   "source": [
    "print('The dataframe has {} boroughs and {} neighborhoods.'.format(\n",
    "        len(neighborhoods['Borough'].unique()),\n",
    "        neighborhoods.shape[0]\n",
    "    )\n",
    ")"
   ]
  },
  {
   "cell_type": "markdown",
   "metadata": {},
   "source": [
    "## Create a map of Toronto with neighborhoods superimposed on top"
   ]
  },
  {
   "cell_type": "code",
   "execution_count": 46,
   "metadata": {
    "scrolled": true
   },
   "outputs": [
    {
     "data": {
      "text/html": [
       "<div style=\"width:100%;\"><div style=\"position:relative;width:100%;height:0;padding-bottom:60%;\"><span style=\"color:#565656\">Make this Notebook Trusted to load map: File -> Trust Notebook</span><iframe src=\"about:blank\" style=\"position:absolute;width:100%;height:100%;left:0;top:0;border:none !important;\" data-html=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 onload=\"this.contentDocument.open();this.contentDocument.write(atob(this.getAttribute('data-html')));this.contentDocument.close();\" allowfullscreen webkitallowfullscreen mozallowfullscreen></iframe></div></div>"
      ],
      "text/plain": [
       "<folium.folium.Map at 0x2462fbf9c88>"
      ]
     },
     "execution_count": 46,
     "metadata": {},
     "output_type": "execute_result"
    }
   ],
   "source": [
    "# create map of Toronto using latitude and longitude values\n",
    "map_toronto = folium.Map(location=[latitude, longitude], zoom_start=10)\n",
    "\n",
    "# add markers to map\n",
    "for lat, lng, borough, neighborhood in zip(neighborhoods['Latitude'], neighborhoods['Longitude'], neighborhoods['Borough'], neighborhoods['Neighborhood']):\n",
    "    label = '{}, {}'.format(neighborhood, borough)\n",
    "    label = folium.Popup(label, parse_html=True)\n",
    "    folium.CircleMarker(\n",
    "        [lat, lng],\n",
    "        radius=5,\n",
    "        popup=label,\n",
    "        color='blue',\n",
    "        fill=True,\n",
    "        fill_color='#3186cc',\n",
    "        fill_opacity=0.7,\n",
    "        parse_html=False).add_to(map_toronto)  \n",
    "    \n",
    "map_toronto"
   ]
  },
  {
   "cell_type": "markdown",
   "metadata": {},
   "source": [
    "## Enter client ID and secret"
   ]
  },
  {
   "cell_type": "code",
   "execution_count": 47,
   "metadata": {
    "scrolled": true
   },
   "outputs": [
    {
     "name": "stdout",
     "output_type": "stream",
     "text": [
      "Your credentails:\n",
      "CLIENT_ID: DOAZABZVLAW44SC5CVE3MNQUVYM3K5DTSNWTN5ZGZQXAD5SA\n",
      "CLIENT_SECRET:W0B4YMT2IFD0K2SORXENNLYCJYDMD201RXXRKPS1PUZSCXYD\n"
     ]
    }
   ],
   "source": [
    "CLIENT_ID = 'DOAZABZVLAW44SC5CVE3MNQUVYM3K5DTSNWTN5ZGZQXAD5SA' # your Foursquare ID\n",
    "CLIENT_SECRET = 'W0B4YMT2IFD0K2SORXENNLYCJYDMD201RXXRKPS1PUZSCXYD' # your Foursquare Secret\n",
    "VERSION = '20180605' # Foursquare API version\n",
    "\n",
    "print('Your credentails:')\n",
    "print('CLIENT_ID: ' + CLIENT_ID)\n",
    "print('CLIENT_SECRET:' + CLIENT_SECRET)"
   ]
  },
  {
   "cell_type": "code",
   "execution_count": 75,
   "metadata": {},
   "outputs": [
    {
     "name": "stdout",
     "output_type": "stream",
     "text": [
      "Latitude and longitude values of Regent Park, Harbourfront are 43.6542599, -79.3606359.\n"
     ]
    }
   ],
   "source": [
    "neighborhood_latitude = downtown.loc[0, 'Latitude'] # neighborhood latitude value\n",
    "neighborhood_longitude = downtown.loc[0, 'Longitude'] # neighborhood longitude value\n",
    "\n",
    "neighborhood_name = downtown.loc[0, 'Neighborhood'] # neighborhood name\n",
    "\n",
    "print('Latitude and longitude values of {} are {}, {}.'.format(neighborhood_name, \n",
    "                                                               neighborhood_latitude, \n",
    "                                                               neighborhood_longitude))"
   ]
  },
  {
   "cell_type": "markdown",
   "metadata": {},
   "source": [
    "### Now, let's get the top 100 venues that are in Regent Park, Harbourfront within a radius of 1 km."
   ]
  },
  {
   "cell_type": "code",
   "execution_count": 26,
   "metadata": {},
   "outputs": [
    {
     "ename": "NameError",
     "evalue": "name 'url' is not defined",
     "output_type": "error",
     "traceback": [
      "\u001b[1;31m---------------------------------------------------------------------------\u001b[0m",
      "\u001b[1;31mNameError\u001b[0m                                 Traceback (most recent call last)",
      "\u001b[1;32m<ipython-input-26-f048ffce0a17>\u001b[0m in \u001b[0;36m<module>\u001b[1;34m\u001b[0m\n\u001b[1;32m----> 1\u001b[1;33m \u001b[0mresults\u001b[0m \u001b[1;33m=\u001b[0m \u001b[0mrequests\u001b[0m\u001b[1;33m.\u001b[0m\u001b[0mget\u001b[0m\u001b[1;33m(\u001b[0m\u001b[0murl\u001b[0m\u001b[1;33m)\u001b[0m\u001b[1;33m.\u001b[0m\u001b[0mjson\u001b[0m\u001b[1;33m(\u001b[0m\u001b[1;33m)\u001b[0m\u001b[1;33m\u001b[0m\u001b[1;33m\u001b[0m\u001b[0m\n\u001b[0m\u001b[0;32m      2\u001b[0m \u001b[0mresults\u001b[0m\u001b[1;33m\u001b[0m\u001b[1;33m\u001b[0m\u001b[0m\n",
      "\u001b[1;31mNameError\u001b[0m: name 'url' is not defined"
     ]
    }
   ],
   "source": [
    "results = requests.get(url).json()\n",
    "results"
   ]
  },
  {
   "cell_type": "markdown",
   "metadata": {},
   "source": [
    "### write a function that extract the category of the venue"
   ]
  },
  {
   "cell_type": "code",
   "execution_count": 49,
   "metadata": {},
   "outputs": [],
   "source": [
    "# function that extracts the category of the venue\n",
    "def get_category_type(row):\n",
    "    try:\n",
    "        categories_list = row['categories']\n",
    "    except:\n",
    "        categories_list = row['venue.categories']\n",
    "        \n",
    "    if len(categories_list) == 0:\n",
    "        return None\n",
    "    else:\n",
    "        return categories_list[0]['name']"
   ]
  },
  {
   "cell_type": "markdown",
   "metadata": {},
   "source": [
    "### extract all information in items key"
   ]
  },
  {
   "cell_type": "code",
   "execution_count": 50,
   "metadata": {},
   "outputs": [
    {
     "ename": "NameError",
     "evalue": "name 'results' is not defined",
     "output_type": "error",
     "traceback": [
      "\u001b[1;31m---------------------------------------------------------------------------\u001b[0m",
      "\u001b[1;31mNameError\u001b[0m                                 Traceback (most recent call last)",
      "\u001b[1;32m<ipython-input-50-54ce26836d78>\u001b[0m in \u001b[0;36m<module>\u001b[1;34m\u001b[0m\n\u001b[1;32m----> 1\u001b[1;33m \u001b[0mvenues\u001b[0m \u001b[1;33m=\u001b[0m \u001b[0mresults\u001b[0m\u001b[1;33m[\u001b[0m\u001b[1;34m'response'\u001b[0m\u001b[1;33m]\u001b[0m\u001b[1;33m[\u001b[0m\u001b[1;34m'groups'\u001b[0m\u001b[1;33m]\u001b[0m\u001b[1;33m[\u001b[0m\u001b[1;36m0\u001b[0m\u001b[1;33m]\u001b[0m\u001b[1;33m[\u001b[0m\u001b[1;34m'items'\u001b[0m\u001b[1;33m]\u001b[0m\u001b[1;33m\u001b[0m\u001b[1;33m\u001b[0m\u001b[0m\n\u001b[0m\u001b[0;32m      2\u001b[0m \u001b[1;33m\u001b[0m\u001b[0m\n\u001b[0;32m      3\u001b[0m \u001b[0mnearby_venues\u001b[0m \u001b[1;33m=\u001b[0m \u001b[0mpd\u001b[0m\u001b[1;33m.\u001b[0m\u001b[0mjson_normalize\u001b[0m\u001b[1;33m(\u001b[0m\u001b[0mvenues\u001b[0m\u001b[1;33m)\u001b[0m \u001b[1;31m# flatten JSON\u001b[0m\u001b[1;33m\u001b[0m\u001b[1;33m\u001b[0m\u001b[0m\n\u001b[0;32m      4\u001b[0m \u001b[1;33m\u001b[0m\u001b[0m\n\u001b[0;32m      5\u001b[0m \u001b[1;31m# filter columns\u001b[0m\u001b[1;33m\u001b[0m\u001b[1;33m\u001b[0m\u001b[1;33m\u001b[0m\u001b[0m\n",
      "\u001b[1;31mNameError\u001b[0m: name 'results' is not defined"
     ]
    }
   ],
   "source": [
    "venues = results['response']['groups'][0]['items']\n",
    "    \n",
    "nearby_venues = pd.json_normalize(venues) # flatten JSON\n",
    "\n",
    "# filter columns\n",
    "filtered_columns = ['venue.name', 'venue.categories', 'venue.location.lat', 'venue.location.lng']\n",
    "nearby_venues =nearby_venues.loc[:, filtered_columns]\n",
    "\n",
    "# filter the category for each row\n",
    "nearby_venues['venue.categories'] = nearby_venues.apply(get_category_type, axis=1)\n",
    "\n",
    "# clean columns\n",
    "nearby_venues.columns = [col.split(\".\")[-1] for col in nearby_venues.columns]\n",
    "\n",
    "nearby_venues.head()"
   ]
  },
  {
   "cell_type": "code",
   "execution_count": 85,
   "metadata": {},
   "outputs": [
    {
     "data": {
      "text/plain": [
       "array(['Bakery', 'Coffee Shop', 'Restaurant', 'Historic Site', 'Park',\n",
       "       'Farmers Market', 'Distribution Center',\n",
       "       'Mediterranean Restaurant', 'Dessert Shop', 'Pub',\n",
       "       'Chocolate Shop', 'Performing Arts Venue', 'French Restaurant',\n",
       "       'Liquor Store', 'Spa', 'Breakfast Spot', 'Tech Startup',\n",
       "       'Italian Restaurant', 'Café', 'Mexican Restaurant',\n",
       "       'Gym / Fitness Center', 'Thai Restaurant', 'Yoga Studio',\n",
       "       'Shoe Store', 'Pool', 'Theater', 'Animal Shelter',\n",
       "       'Asian Restaurant', 'Furniture / Home Store', 'Event Space',\n",
       "       'Ice Cream Shop', 'Gastropub', 'German Restaurant', 'Diner',\n",
       "       'Sandwich Place', 'Grocery Store', 'Art Gallery', 'Food Truck',\n",
       "       'Pizza Place', 'Middle Eastern Restaurant', 'Gym Pool', 'Bar',\n",
       "       'Athletics & Sports', 'Electronics Store', 'Dance Studio',\n",
       "       'Burrito Place', 'Karaoke Bar', 'Brewery', 'Sushi Restaurant',\n",
       "       'Auto Dealership', 'Bank', 'Pet Store', 'Beer Store',\n",
       "       'Skating Rink', 'Pharmacy', 'Indian Restaurant',\n",
       "       'Pakistani Restaurant', 'Fast Food Restaurant'], dtype=object)"
      ]
     },
     "execution_count": 85,
     "metadata": {},
     "output_type": "execute_result"
    }
   ],
   "source": [
    "nearby_venues['categories'].unique()"
   ]
  },
  {
   "cell_type": "code",
   "execution_count": 86,
   "metadata": {
    "scrolled": false
   },
   "outputs": [
    {
     "name": "stdout",
     "output_type": "stream",
     "text": [
      "100 venues were returned by Foursquare.\n"
     ]
    }
   ],
   "source": [
    "print('{} venues were returned by Foursquare.'.format(nearby_venues.shape[0]))"
   ]
  },
  {
   "cell_type": "markdown",
   "metadata": {},
   "source": [
    "###  create a function to get all venues of all the neighborhoods in Toronto"
   ]
  },
  {
   "cell_type": "code",
   "execution_count": 51,
   "metadata": {},
   "outputs": [],
   "source": [
    "def getNearbyVenues(names, latitudes, longitudes, radius=1000):\n",
    "    \n",
    "    venues_list=[]\n",
    "    for name, lat, lng in zip(names, latitudes, longitudes):\n",
    "        print(name)\n",
    "            \n",
    "        # create the API request URL\n",
    "        url = 'https://api.foursquare.com/v2/venues/explore?&client_id={}&client_secret={}&v={}&ll={},{}&radius={}&limit={}'.format(\n",
    "            CLIENT_ID, \n",
    "            CLIENT_SECRET, \n",
    "            VERSION, \n",
    "            lat, \n",
    "            lng, \n",
    "            radius, \n",
    "            LIMIT)\n",
    "            \n",
    "        # make the GET request\n",
    "        results = requests.get(url).json()[\"response\"]['groups'][0]['items']\n",
    "        \n",
    "        # return only relevant information for each nearby venue\n",
    "        venues_list.append([(\n",
    "            name, \n",
    "            lat, \n",
    "            lng, \n",
    "            v['venue']['name'], \n",
    "            v['venue']['location']['lat'], \n",
    "            v['venue']['location']['lng'],  \n",
    "            v['venue']['categories'][0]['name']) for v in results])\n",
    "\n",
    "    nearby_venues = pd.DataFrame([item for venue_list in venues_list for item in venue_list])\n",
    "    nearby_venues.columns = ['Neighborhood', \n",
    "                  'Neighborhood Latitude', \n",
    "                  'Neighborhood Longitude', \n",
    "                  'Venue', \n",
    "                  'Venue Latitude', \n",
    "                  'Venue Longitude', \n",
    "                  'Venue Category']\n",
    "    \n",
    "    return(nearby_venues)"
   ]
  },
  {
   "cell_type": "markdown",
   "metadata": {},
   "source": [
    "### run the above function on each neighborhood and create a new dataframe called toronto_venues"
   ]
  },
  {
   "cell_type": "code",
   "execution_count": 52,
   "metadata": {
    "scrolled": true
   },
   "outputs": [
    {
     "name": "stdout",
     "output_type": "stream",
     "text": [
      "Parkwoods\n",
      "Victoria Village\n",
      "Regent Park, Harbourfront\n",
      "Lawrence Manor, Lawrence Heights\n",
      "Queen's Park, Ontario Provincial Government\n",
      "Islington Avenue, Humber Valley Village\n",
      "Malvern, Rouge\n",
      "Don Mills\n",
      "Parkview Hill, Woodbine Gardens\n",
      "Garden District, Ryerson\n",
      "Glencairn\n",
      "West Deane Park, Princess Gardens, Martin Grove, Islington, Cloverdale\n",
      "Rouge Hill, Port Union, Highland Creek\n",
      "Don Mills\n",
      "Woodbine Heights\n",
      "St. James Town\n",
      "Humewood-Cedarvale\n",
      "Eringate, Bloordale Gardens, Old Burnhamthorpe, Markland Wood\n",
      "Guildwood, Morningside, West Hill\n",
      "The Beaches\n",
      "Berczy Park\n",
      "Caledonia-Fairbanks\n",
      "Woburn\n",
      "Leaside\n",
      "Central Bay Street\n",
      "Christie\n",
      "Cedarbrae\n",
      "Hillcrest Village\n",
      "Bathurst Manor, Wilson Heights, Downsview North\n",
      "Thorncliffe Park\n",
      "Richmond, Adelaide, King\n",
      "Dufferin, Dovercourt Village\n",
      "Scarborough Village\n",
      "Fairview, Henry Farm, Oriole\n",
      "Northwood Park, York University\n",
      "East Toronto, Broadview North (Old East York)\n",
      "Harbourfront East, Union Station, Toronto Islands\n",
      "Little Portugal, Trinity\n",
      "Kennedy Park, Ionview, East Birchmount Park\n",
      "Bayview Village\n",
      "Downsview\n",
      "The Danforth West, Riverdale\n",
      "Toronto Dominion Centre, Design Exchange\n",
      "Brockton, Parkdale Village, Exhibition Place\n",
      "Golden Mile, Clairlea, Oakridge\n",
      "York Mills, Silver Hills\n",
      "Downsview\n",
      "India Bazaar, The Beaches West\n",
      "Commerce Court, Victoria Hotel\n",
      "North Park, Maple Leaf Park, Upwood Park\n",
      "Humber Summit\n",
      "Cliffside, Cliffcrest, Scarborough Village West\n",
      "Willowdale, Newtonbrook\n",
      "Downsview\n",
      "Studio District\n",
      "Bedford Park, Lawrence Manor East\n",
      "Del Ray, Mount Dennis, Keelsdale and Silverthorn\n",
      "Humberlea, Emery\n",
      "Birch Cliff, Cliffside West\n",
      "Willowdale, Willowdale East\n",
      "Downsview\n",
      "Lawrence Park\n",
      "Roselawn\n",
      "Runnymede, The Junction North\n",
      "Weston\n",
      "Dorset Park, Wexford Heights, Scarborough Town Centre\n",
      "York Mills West\n",
      "Davisville North\n",
      "Forest Hill North & West, Forest Hill Road Park\n",
      "High Park, The Junction South\n",
      "Westmount\n",
      "Wexford, Maryvale\n",
      "Willowdale, Willowdale West\n",
      "North Toronto West, Lawrence Park\n",
      "The Annex, North Midtown, Yorkville\n",
      "Parkdale, Roncesvalles\n",
      "Canada Post Gateway Processing Centre\n",
      "Kingsview Village, St. Phillips, Martin Grove Gardens, Richview Gardens\n",
      "Agincourt\n",
      "Davisville\n",
      "University of Toronto, Harbord\n",
      "Runnymede, Swansea\n",
      "Clarks Corners, Tam O'Shanter, Sullivan\n",
      "Moore Park, Summerhill East\n",
      "Kensington Market, Chinatown, Grange Park\n",
      "Milliken, Agincourt North, Steeles East, L'Amoreaux East\n",
      "Summerhill West, Rathnelly, South Hill, Forest Hill SE, Deer Park\n",
      "CN Tower, King and Spadina, Railway Lands, Harbourfront West, Bathurst Quay, South Niagara, Island airport\n",
      "New Toronto, Mimico South, Humber Bay Shores\n",
      "South Steeles, Silverstone, Humbergate, Jamestown, Mount Olive, Beaumond Heights, Thistletown, Albion Gardens\n",
      "Steeles West, L'Amoreaux West\n",
      "Rosedale\n",
      "Stn A PO Boxes\n",
      "Alderwood, Long Branch\n",
      "Northwest, West Humber - Clairville\n",
      "Upper Rouge\n",
      "St. James Town, Cabbagetown\n",
      "First Canadian Place, Underground city\n",
      "The Kingsway, Montgomery Road, Old Mill North\n",
      "Church and Wellesley\n",
      "Business reply mail Processing Centre, South Central Letter Processing Plant Toronto\n",
      "Old Mill South, King's Mill Park, Sunnylea, Humber Bay, Mimico NE, The Queensway East, Royal York South East, Kingsway Park South East\n",
      "Mimico NW, The Queensway West, South of Bloor, Kingsway Park South West, Royal York South West\n"
     ]
    }
   ],
   "source": [
    "# type your answer here\n",
    "\n",
    "toronto_venue = getNearbyVenues(names=neighborhoods['Neighborhood'],\n",
    "                                   latitudes=neighborhoods['Latitude'],\n",
    "                                   longitudes=neighborhoods['Longitude']\n",
    "                                  )\n",
    "\n"
   ]
  },
  {
   "cell_type": "code",
   "execution_count": 53,
   "metadata": {
    "scrolled": true
   },
   "outputs": [
    {
     "data": {
      "text/plain": [
       "(4905, 7)"
      ]
     },
     "execution_count": 53,
     "metadata": {},
     "output_type": "execute_result"
    }
   ],
   "source": [
    "toronto_venue.shape"
   ]
  },
  {
   "cell_type": "code",
   "execution_count": 54,
   "metadata": {},
   "outputs": [
    {
     "data": {
      "text/html": [
       "<div>\n",
       "<style scoped>\n",
       "    .dataframe tbody tr th:only-of-type {\n",
       "        vertical-align: middle;\n",
       "    }\n",
       "\n",
       "    .dataframe tbody tr th {\n",
       "        vertical-align: top;\n",
       "    }\n",
       "\n",
       "    .dataframe thead th {\n",
       "        text-align: right;\n",
       "    }\n",
       "</style>\n",
       "<table border=\"1\" class=\"dataframe\">\n",
       "  <thead>\n",
       "    <tr style=\"text-align: right;\">\n",
       "      <th></th>\n",
       "      <th>Neighborhood</th>\n",
       "      <th>Neighborhood Latitude</th>\n",
       "      <th>Neighborhood Longitude</th>\n",
       "      <th>Venue</th>\n",
       "      <th>Venue Latitude</th>\n",
       "      <th>Venue Longitude</th>\n",
       "      <th>Venue Category</th>\n",
       "    </tr>\n",
       "  </thead>\n",
       "  <tbody>\n",
       "    <tr>\n",
       "      <th>0</th>\n",
       "      <td>Parkwoods</td>\n",
       "      <td>43.753259</td>\n",
       "      <td>-79.329656</td>\n",
       "      <td>Allwyn's Bakery</td>\n",
       "      <td>43.759840</td>\n",
       "      <td>-79.324719</td>\n",
       "      <td>Caribbean Restaurant</td>\n",
       "    </tr>\n",
       "    <tr>\n",
       "      <th>1</th>\n",
       "      <td>Parkwoods</td>\n",
       "      <td>43.753259</td>\n",
       "      <td>-79.329656</td>\n",
       "      <td>Brookbanks Park</td>\n",
       "      <td>43.751976</td>\n",
       "      <td>-79.332140</td>\n",
       "      <td>Park</td>\n",
       "    </tr>\n",
       "    <tr>\n",
       "      <th>2</th>\n",
       "      <td>Parkwoods</td>\n",
       "      <td>43.753259</td>\n",
       "      <td>-79.329656</td>\n",
       "      <td>Tim Hortons</td>\n",
       "      <td>43.760668</td>\n",
       "      <td>-79.326368</td>\n",
       "      <td>Café</td>\n",
       "    </tr>\n",
       "    <tr>\n",
       "      <th>3</th>\n",
       "      <td>Parkwoods</td>\n",
       "      <td>43.753259</td>\n",
       "      <td>-79.329656</td>\n",
       "      <td>A&amp;W</td>\n",
       "      <td>43.760643</td>\n",
       "      <td>-79.326865</td>\n",
       "      <td>Fast Food Restaurant</td>\n",
       "    </tr>\n",
       "    <tr>\n",
       "      <th>4</th>\n",
       "      <td>Parkwoods</td>\n",
       "      <td>43.753259</td>\n",
       "      <td>-79.329656</td>\n",
       "      <td>Bruno's valu-mart</td>\n",
       "      <td>43.746143</td>\n",
       "      <td>-79.324630</td>\n",
       "      <td>Grocery Store</td>\n",
       "    </tr>\n",
       "  </tbody>\n",
       "</table>\n",
       "</div>"
      ],
      "text/plain": [
       "  Neighborhood  Neighborhood Latitude  Neighborhood Longitude  \\\n",
       "0    Parkwoods              43.753259              -79.329656   \n",
       "1    Parkwoods              43.753259              -79.329656   \n",
       "2    Parkwoods              43.753259              -79.329656   \n",
       "3    Parkwoods              43.753259              -79.329656   \n",
       "4    Parkwoods              43.753259              -79.329656   \n",
       "\n",
       "               Venue  Venue Latitude  Venue Longitude        Venue Category  \n",
       "0    Allwyn's Bakery       43.759840       -79.324719  Caribbean Restaurant  \n",
       "1    Brookbanks Park       43.751976       -79.332140                  Park  \n",
       "2        Tim Hortons       43.760668       -79.326368                  Café  \n",
       "3                A&W       43.760643       -79.326865  Fast Food Restaurant  \n",
       "4  Bruno's valu-mart       43.746143       -79.324630         Grocery Store  "
      ]
     },
     "execution_count": 54,
     "metadata": {},
     "output_type": "execute_result"
    }
   ],
   "source": [
    "toronto_venue.head()"
   ]
  },
  {
   "cell_type": "code",
   "execution_count": 142,
   "metadata": {},
   "outputs": [
    {
     "data": {
      "text/plain": [
       "array(['Caribbean Restaurant', 'Park', 'Café', 'Fast Food Restaurant',\n",
       "       'Grocery Store', 'Pharmacy', 'Supermarket', 'Fish & Chips Shop',\n",
       "       'Pizza Place', 'Food & Drink Shop', 'Road', 'Bus Stop',\n",
       "       'Train Station', 'Discount Store', 'Laundry Service',\n",
       "       'Chinese Restaurant', 'Coffee Shop', 'Convenience Store',\n",
       "       'Shopping Mall', 'Tennis Court', 'Cosmetics Shop',\n",
       "       'Shop & Service', 'Hockey Arena', 'Portuguese Restaurant',\n",
       "       'Golf Course', 'French Restaurant', 'Intersection', \"Men's Store\",\n",
       "       'Boxing Gym', 'Gym / Fitness Center', 'Bakery', 'Restaurant',\n",
       "       'Historic Site', 'Farmers Market', 'Distribution Center',\n",
       "       'Mediterranean Restaurant', 'Dessert Shop', 'Pub',\n",
       "       'Chocolate Shop', 'Performing Arts Venue', 'Liquor Store', 'Spa',\n",
       "       'Breakfast Spot', 'Tech Startup', 'Italian Restaurant',\n",
       "       'Mexican Restaurant', 'Thai Restaurant', 'Yoga Studio',\n",
       "       'Shoe Store', 'Pool', 'Theater', 'Animal Shelter',\n",
       "       'Asian Restaurant', 'Furniture / Home Store', 'Event Space',\n",
       "       'Ice Cream Shop', 'Gastropub', 'German Restaurant', 'Diner',\n",
       "       'Sandwich Place', 'Art Gallery', 'Food Truck',\n",
       "       'Middle Eastern Restaurant', 'Gym Pool', 'Bar',\n",
       "       'Athletics & Sports', 'Electronics Store', 'Dance Studio',\n",
       "       'Burrito Place', 'Karaoke Bar', 'Brewery', 'Sushi Restaurant',\n",
       "       'Auto Dealership', 'Bank', 'Pet Store', 'Beer Store',\n",
       "       'Skating Rink', 'Indian Restaurant', 'Pakistani Restaurant',\n",
       "       'Boutique', 'Vietnamese Restaurant', 'Greek Restaurant',\n",
       "       'Fried Chicken Joint', 'Bowling Alley', 'Clothing Store',\n",
       "       'Seafood Restaurant', 'Accessories Store', 'Miscellaneous Shop',\n",
       "       'Cheese Shop', 'Rental Car Location',\n",
       "       'Paper / Office Supplies Store', 'Fireworks Store', 'Playground',\n",
       "       'Creperie', 'Arts & Crafts Store', 'Bubble Tea Shop', 'Beer Bar',\n",
       "       'Ramen Restaurant', 'Hobby Shop', 'Vegetarian / Vegan Restaurant',\n",
       "       'Burger Joint', 'Museum', 'Smoke Shop', 'Bookstore',\n",
       "       'Ethiopian Restaurant', 'Concert Hall', 'Theme Restaurant',\n",
       "       'Jewelry Store', 'Juice Bar', 'Modern European Restaurant',\n",
       "       'Gift Shop', 'Martial Arts Dojo', 'Gym', 'Gay Bar', 'Music School',\n",
       "       'Gourmet Shop', 'Japanese Restaurant', 'Video Store',\n",
       "       'College Theater', 'Salon / Barbershop', 'Comic Shop', 'Tea Room',\n",
       "       'Department Store', 'Health & Beauty Service', 'Poke Place',\n",
       "       'Art Museum', 'Trail', 'Auto Workshop', 'Salad Place',\n",
       "       'Baseball Field', 'Mobile Phone Shop', 'Video Game Store',\n",
       "       'Rock Climbing Spot', 'Soccer Stadium', 'Home Service',\n",
       "       'Construction & Landscaping', 'Fabric Shop', 'Music Venue',\n",
       "       'Plaza', 'Hotel', 'College Rec Center', 'New American Restaurant',\n",
       "       'American Restaurant', 'Neighborhood', 'Garden',\n",
       "       'Botanical Garden', 'Monument / Landmark', 'BBQ Joint',\n",
       "       'Latin American Restaurant', 'Gas Station', 'Metro Station',\n",
       "       'Flower Shop', 'Fish Market', 'Photography Lab', 'History Museum',\n",
       "       'Bike Shop', 'Sporting Goods Shop', \"Women's Store\",\n",
       "       'Dim Sum Restaurant', 'Office', 'Pastry Shop', 'Curling Ice',\n",
       "       'Bus Line', 'Cocktail Bar', 'Fountain', 'Tailor Shop',\n",
       "       'Camera Store', 'Bistro', 'Steakhouse', 'Lounge', 'Field',\n",
       "       'Bagel Shop', 'Frozen Yogurt Shop', 'Korean Restaurant',\n",
       "       'Israeli Restaurant', 'Deli / Bodega', 'Optical Shop',\n",
       "       'Smoothie Shop', 'Sports Bar', 'Indie Movie Theater',\n",
       "       'Health Food Store', 'Toy / Game Store', 'Beach', 'Nail Salon',\n",
       "       'Cupcake Shop', 'Fruit & Vegetable Store', 'Scenic Lookout',\n",
       "       'Tree', 'Basketball Stadium', 'Comfort Food Restaurant',\n",
       "       'IT Services', 'Lake', 'Falafel Restaurant', 'University',\n",
       "       'Tanning Salon', 'Souvlaki Shop', 'South American Restaurant',\n",
       "       'Design Studio', 'Wine Bar', 'Taco Place', 'Comedy Club',\n",
       "       'Music Store', 'School', 'Candy Store',\n",
       "       'Eastern European Restaurant', 'Jewish Restaurant', 'Bridal Shop',\n",
       "       'Record Shop', 'Hakka Restaurant', 'Wings Joint',\n",
       "       'Recreation Center', 'Residential Building (Apartment / Condo)',\n",
       "       'Ski Chalet', 'Dog Run', 'Community Center', 'Ski Area',\n",
       "       'Warehouse Store', 'Afghan Restaurant', 'Turkish Restaurant',\n",
       "       'Bridge', 'Housing Development', 'Speakeasy', 'General Travel',\n",
       "       'Brazilian Restaurant', 'Food Court', 'Movie Theater',\n",
       "       'Recording Studio', 'College Lab', 'Other Repair Shop',\n",
       "       'Massage Studio', 'Donut Shop', 'Hostel', 'Business Service',\n",
       "       'Bus Station', 'Aquarium', 'Roof Deck', 'Baseball Stadium',\n",
       "       'Track', 'Cuban Restaurant', 'Tapas Restaurant', 'Whisky Bar',\n",
       "       'Soup Place', 'Butcher', 'Dumpling Restaurant',\n",
       "       'Light Rail Station', 'Airport', 'Soccer Field', 'Churrascaria',\n",
       "       'Tibetan Restaurant', 'Hawaiian Restaurant', 'Beach Bar',\n",
       "       'Thrift / Vintage Store', 'Food', 'Nightclub', 'Chiropractor',\n",
       "       'Hotel Bar', 'General Entertainment', 'Skate Park', 'Snack Place',\n",
       "       'Indian Chinese Restaurant', 'Indie Theater', 'Garden Center',\n",
       "       'Board Shop', 'Harbor / Marina', 'Irish Pub', 'Hardware Store',\n",
       "       'Hookah Bar', 'Hot Dog Joint', 'Stationery Store', 'Dive Bar',\n",
       "       'Coworking Space', 'Climbing Gym', 'Rock Club', 'Antique Shop',\n",
       "       'Pide Place', 'Flea Market', 'Sports Club', 'Baby Store',\n",
       "       'Wine Shop', 'Storage Facility', 'College Stadium',\n",
       "       'Indonesian Restaurant', 'Kitchen Supply Store', 'College Quad',\n",
       "       'College Gym', \"Dentist's Office\", 'Gaming Cafe', 'Poutine Place',\n",
       "       'Buffet', 'Persian Restaurant', 'Organic Grocery',\n",
       "       'Cajun / Creole Restaurant', 'African Restaurant',\n",
       "       'Badminton Court', 'Castle', 'Amphitheater',\n",
       "       'Other Great Outdoors', 'Zoo', 'Print Shop', 'Supplement Shop',\n",
       "       'Sri Lankan Restaurant', 'Cantonese Restaurant', 'Noodle House',\n",
       "       'Malay Restaurant', 'Pool Hall', 'Filipino Restaurant',\n",
       "       'Hong Kong Restaurant', 'Syrian Restaurant', 'Cemetery',\n",
       "       'Doner Restaurant', 'Belgian Restaurant', 'Jazz Club',\n",
       "       'Pilates Studio', 'River', 'Market', 'Taiwanese Restaurant',\n",
       "       'Street Art', 'Udon Restaurant', 'Sculpture Garden',\n",
       "       'Hotpot Restaurant', 'Pie Shop', 'Moroccan Restaurant',\n",
       "       'Moving Target', 'Farm', 'Lighting Store', 'Outdoors & Recreation',\n",
       "       'Sake Bar', 'Social Club', 'Kids Store', 'Automotive Shop',\n",
       "       'Mattress Store'], dtype=object)"
      ]
     },
     "execution_count": 142,
     "metadata": {},
     "output_type": "execute_result"
    }
   ],
   "source": [
    "toronto_venue['Venue Category'].unique()"
   ]
  },
  {
   "cell_type": "markdown",
   "metadata": {},
   "source": [
    "### only select venue as restaurant"
   ]
  },
  {
   "cell_type": "code",
   "execution_count": 55,
   "metadata": {},
   "outputs": [],
   "source": [
    "toronto_restaurants = toronto_venue[toronto_venue['Venue Category'].str.contains('Restaurant')]"
   ]
  },
  {
   "cell_type": "code",
   "execution_count": 56,
   "metadata": {},
   "outputs": [],
   "source": [
    "toronto_restaurants = toronto_restaurants.reset_index(drop=True)"
   ]
  },
  {
   "cell_type": "code",
   "execution_count": 57,
   "metadata": {},
   "outputs": [
    {
     "data": {
      "text/plain": [
       "(1163, 7)"
      ]
     },
     "execution_count": 57,
     "metadata": {},
     "output_type": "execute_result"
    }
   ],
   "source": [
    "toronto_restaurants.shape"
   ]
  },
  {
   "cell_type": "code",
   "execution_count": 58,
   "metadata": {},
   "outputs": [
    {
     "data": {
      "text/plain": [
       "array([\"Allwyn's Bakery\", 'A&W', 'Spicy Chicken House', 'Portugril',\n",
       "       'The Frig', 'Impact Kitchen', 'Souk Tabule',\n",
       "       'Cluny Bistro & Boulangerie', 'Mangia and Bevi Resto-Bar',\n",
       "       'El Catrin', 'Sukhothai', \"Fusaro's\", 'Schnitzel Queen',\n",
       "       'Cluck Clucks', 'Paintbox Bistro', 'Mystic Muffin', 'Qi sushi',\n",
       "       'Sushi Bar', 'Sultan Of Samosas', \"King's Place647-352-0786\",\n",
       "       'Lac Vien Vietnamese Restaurant', 'Yuki Japanese Restaurant',\n",
       "       \"The Burger's Priest\", 'Krystos', \"Harvey's\", 'Tora Aburi Sushi',\n",
       "       'Red Lobster', 'Burger King', 'Viet House', \"Shoeless Joe's\",\n",
       "       'Wendy’s', 'Tokyo Sushi', 'Como En Casa', 'Sansotei Ramen 三草亭',\n",
       "       \"Somethin' 2 Talk About\", 'Vegetarian Haven', 'Ethiopian House',\n",
       "       'Scaddabush Italian Kitchen & Bar', 'Storm Crow Manor',\n",
       "       'The Elm Tree Restaurant', 'Kothur Indian Cuisine', 'Wish',\n",
       "       'Si Lom', 'KAKA', 'Kinka Izakaya Original', 'Fabarnak', 'Japango',\n",
       "       'Paramount Fine Foods', 'Trattoria Nervosa', 'Wow! Sushi',\n",
       "       'Rolltation', 'Kinton Ramen', 'Yamato Japanese Restaurant',\n",
       "       \"Wendy's\", 'Caribbean Wave', 'Mr Jerk', \"Charley's Exotic Cuisine\",\n",
       "       'Mr. Greek', 'Island Foods',\n",
       "       'Matsuda Japanese Cuisine & Teppanyaki', 'Gonoe Sushi',\n",
       "       'Thai One On', 'Dragon Pearl Buffet 龍珠', 'Teriyaki Experience',\n",
       "       'Swiss Chalet', 'Crepe Delicious', 'GEORGE Restaurant',\n",
       "       'Trattoria Mercatto', 'Richmond Station', 'JOEY Eaton Centre',\n",
       "       'Kabul Express', 'Chipotle Mexican Grill', 'Gyu-Kaku Japanese BBQ',\n",
       "       'The Chase', 'Terroni', 'John & Sons Oyster House',\n",
       "       'The Keg Steakhouse + Bar - York Street',\n",
       "       'Columbus Colombian Bakery (Panaderia Colombiana)',\n",
       "       'Miyako Sushi Restaurant', \"McDonald's\", 'KFC', 'Darosa',\n",
       "       'Bologna Pastificio', 'Sala Caboto', 'State & Main Kitchen & Bar',\n",
       "       'barBURRITO', 'Fratelli Village Pizzeria', 'Sorento Restaurant',\n",
       "       'Kaiseki Yu-Zen Hashimoto', 'Diwan', 'JOEY Don mills',\n",
       "       'Bier Markt', 'Memories of Japan', 'Taylors Landing',\n",
       "       'Asian Legend', 'Genghis Khan Mongolian Grill',\n",
       "       \"Jack Astor's Bar & Grill\", 'Congee Star 帝王名粥', 'Glow Restaurant',\n",
       "       'Kabuki Sushi Lounge', 'Little Coxwell Restaurant',\n",
       "       'Fresh On Front', 'Market Street Catch', \"Buster's Sea Cove\",\n",
       "       'The Keg Steakhouse + Bar - Esplanade',\n",
       "       'The Works Gourmet Burger Bistro', 'Cactus Club Cafe', 'Canoe',\n",
       "       'Chotto Matte', \"Biff's Bistro\", 'Jerusalem Restaurant',\n",
       "       'Il Mulino', 'Bi Bim Bap', 'China House', 'Taste Of Greek Cuisine',\n",
       "       \"Tori's Bakeshop\", 'Veloute Bistro', 'Xola',\n",
       "       'Isabella’s Boutique Restaurant', 'Yumei Sushi', 'Green Eggplant',\n",
       "       'Delhi Bistro', 'Green Basil', 'Cool Runnings',\n",
       "       'The Real Jerk Beaches', 'Kyouka Ramen',\n",
       "       'Bikkuri Japanese Restaurant', 'The Goof', 'Souvlaki Hut',\n",
       "       'Seaspray Restaurant', 'The Salty Dog', 'Miku',\n",
       "       \"Alexandro's World Famous Gyros\", 'Loaded Pierogi',\n",
       "       'The Old Spaghetti Factory', 'Ki Modern Japanese + Bar', 'Bymark',\n",
       "       'Sushi Zuki', 'Babos Dönerpoint', 'Rebozos', 'Lucky Hakka',\n",
       "       \"Aunty Mary's\", 'Bombay Palace', 'The Leaside Pub',\n",
       "       'Kintako Japanese Restaurant', 'Mt Everest Restaurant',\n",
       "       'Mucho Burrito Fresh Mexican Grill', 'Select Sandwich',\n",
       "       'San Francesco', 'Nigiri-Ya', 'Rosalinda', 'Vinny’s Panini',\n",
       "       'Banjara Indian Cuisine', 'La Bella Managua Restaurant',\n",
       "       'Buk Chang Dong Soon Tofu', 'Madras Masala', 'Actinolite',\n",
       "       'Gordo Ex', 'One Love Vegetarian',\n",
       "       'Sunrise House Korean Restaurant 해뜨는집', 'Yummy Korean Restaurant',\n",
       "       'Korean Village Restaurant', 'Los Guacamoles', 'Pero Restaurant',\n",
       "       'Tofu Village 두부마을 豆腐村', 'Hancook', \"Pam's Caribbean Kitchen\",\n",
       "       'Rakia Bar', 'Doo Roo Ae 두루애', 'Barrio Coreano', 'Fat Pasha',\n",
       "       'Pho 88', 'El Pocho', 'Annapurna Vegetarian Restaurant',\n",
       "       'Korea House', 'Paldo Gangsan 팔도강산',\n",
       "       'Lim Ga Ne Korean Restaurant 임가네', 'The White Brick Kitchen',\n",
       "       'Chinese Dumpling House 中华饺子楼', 'Lalibela Restaurant',\n",
       "       'Jangwon 장원', 'KINTON RAMEN', 'Japanhako',\n",
       "       'Imonay House Restaurant 뉴 · 이모네집', 'Royal Boonsik 로얄분식',\n",
       "       'CANBE Foods Inc', \"Drupati's Roti & Doubles\",\n",
       "       'Federick Restaurant', 'La Sani Grill', 'Hakka Legend',\n",
       "       '고려삼계탕 Korean Ginseng Chicken Soup & Bibimbap', 'New York Fries',\n",
       "       'The Pickle Barrel', 'New Greattime Corp.', 'Bagel Plus',\n",
       "       'Orly Restaurant & Grill', 'Grill Gate', 'Wakame Sushi',\n",
       "       'Iqbal Kebab & Sweet Centre', 'Bamiyan Kabob',\n",
       "       'Pasha Authentic Turkish Cuisine', 'Hakka Garden',\n",
       "       'Faley Restaurant', 'Afghan Cuisine',\n",
       "       \"Anatolian's Turkish Restaurant\", 'Capital Sweets and Samosas',\n",
       "       'Bosk at Shangri-La', 'Pai', 'JaBistro', 'Byblos Toronto',\n",
       "       'Copacabana Grilled Brazilian', 'TOCA', 'Parallel',\n",
       "       'Famiglia Baldassarre', 'Piri-Piri Churrasqueira', 'Rio 40 Graus',\n",
       "       \"King's Tacos\", 'Pizza e Pazzi', 'Cantanhede O Bairradino',\n",
       "       'Shunoko', 'Thai Lime', 'Sushi California', 'Sofra Grill Express',\n",
       "       'Defina Wood Fired', 'Salto Resteraunt', 'Koji Sushi',\n",
       "       'Pho Rang Dong', 'Nakamori Japanese Restaurant',\n",
       "       \"Moxie's Classic Grill\", 'New York Fries - Fairview Mall',\n",
       "       'Tekka Sushi', 'Thai Express', 'Heart Sushi', 'Bourbon St. Grill',\n",
       "       'Spring Rolls', 'Carribean Heat', 'Elite Restaurant',\n",
       "       'Oishi Sushi', 'Falafel Express', 'Tin Tin Congee - 天天粥麵',\n",
       "       'Mr.Sub', 'Mr. Pide', 'The Wren', 'Danforth Dragon Restaurant',\n",
       "       'Rendez-Vous Restaurant Bar & Cafe', 'Ha gow Dim Sum House',\n",
       "       'Athens Restaurant & Bar', 'Al Mandi Restaurant مطعم المندي',\n",
       "       'Sala Modern Thai Kitchen & Bar', 'City Betty',\n",
       "       'Nakayoshi: Ramen Fine Japanese Cuisine', 'Lalibela',\n",
       "       'Folia Grill', 'Zorba Mezedes', 'Tzatziki', 'Akropolis Pastries',\n",
       "       'Wazema Ethiopian Restaurant', 'Number One Chinese Restaurant',\n",
       "       'Makkah Restaurant', 'El Sol Mexican Gallery Restaurant',\n",
       "       'Legends Sports Bar', 'Pape Village', 'Florida Shish Kebab',\n",
       "       'Pita King & Grill', \"Paul's Spaghetti\", 'East York Restaurant',\n",
       "       'Raj Kapuri Paan & Snacks', 'Pearl Harbourfront',\n",
       "       'Gonoe Sushi Japanese Restaurant', 'Kellys Landing',\n",
       "       'Kupfert & Kim', 'Loch & Quay', 'Mi-Ne', 'La Cubana',\n",
       "       'Foxley Bistro', 'OddSeoul', 'Union Restaurant', 'Mamakas Taverna',\n",
       "       'Pho Rua Vang (Golden Turtle)', 'Hanmoto', 'La Banane', 'Bazara',\n",
       "       'Pho Tien Thanh', 'Ufficio', 'Veghed', 'The Goods', \"Montgomery's\",\n",
       "       'Le Swan', 'Imanishi Japanese Kitchen', 'Founder Restaurant & Bar',\n",
       "       'Oyster Boy', 'La Chingada', 'The Drake Hotel',\n",
       "       'The County General', 'Enoteca Sociale', 'Noce', 'Bar Isabel',\n",
       "       'Rhum Corner', 'YamChops', 'Nuit Social', 'Sukho Thai',\n",
       "       \"Pinky's Ca Phe\", 'Hello 123', 'Chung Moi',\n",
       "       'Royal Congee Chinese Cuisine', \"Cho's Wok\",\n",
       "       'Lam Kee B. B. Q. Restaurant', 'Kori Sushi',\n",
       "       'Sun Star Chinese Cuisine 翠景小炒', 'Kaga Sushi', 'Chef 47',\n",
       "       'Mustafa', 'Forget Me Not Cafe Vietnamese Resto-Bar',\n",
       "       'Pupusa Loka', \"Mastro's Ristorante\", 'Kervan Turkish Grill',\n",
       "       'Cafe Fiorentina', 'Pantheon', '7 Numbers',\n",
       "       'Messini Authentic Gyros', 'Mezes', 'Rikkochez',\n",
       "       'Astoria Shish Kebob House', 'Alexandros', 'Tapas at Embrujo',\n",
       "       \"Athen's Pastries\", \"Simone's Caribbean Restaurant\",\n",
       "       \"Christina's On The Danforth\", 'Carrot Commons',\n",
       "       'IL FORNELLO on Danforth', 'Mambo Lounge', 'Factory Girl',\n",
       "       'Sher-E-Punjab', 'Katsu Japanese Restaurant',\n",
       "       'Friendly Greek Restaurant', 'Ryus Noodle Bar', 'Globe Bistro',\n",
       "       \"Ali Baba's\", 'Caffino', 'Chantecler', 'Grand Electric',\n",
       "       'Guu Izakaya', \"Harry's Char Broil & Dining Lounge\",\n",
       "       \"Loga's Corner\", \"Miss Thing's\", 'Live Market',\n",
       "       'Cool City Oyster Yard', \"Mildred's Temple Kitchen\",\n",
       "       'Local Liberty Village', 'Medieval Times', 'Mother India', 'NuNu',\n",
       "       'Vogue Supper Club', 'Himalayan Kitchen', 'Levetto',\n",
       "       'Om Restaurant', 'Williams Landing', 'Norling',\n",
       "       'Gingerman Restaurant', 'Mexitaco', 'Cửu Long Miền Tây', 'O Sushi',\n",
       "       'Lake Inez', 'Udupi Palace', 'Delina Restaurant', 'Motimahal',\n",
       "       'Lahore Tikka House', 'Casa di Giorgio', 'Bombay Chowpatty',\n",
       "       'Chick-n-Joy', 'Hakka Wow', 'The Green Wood', 'Regency Restaurant',\n",
       "       'Aki Da Japanese Seafood House', 'Sauvignon Bistro & Bakery Inc',\n",
       "       'Haandi 2000', 'Gautama', \"Karma's Kitchen\", 'Baldev Paan House',\n",
       "       'Lahori Taste & Burger House', 'The Social Gardener',\n",
       "       'Dynasty House', 'Lucky Dragon Chinese Food',\n",
       "       'Red & White Mediterranean Cuisine', 'Albertos Trattoria',\n",
       "       \"Big Boy's Burgers\", 'Daldongnae', 'The Fry',\n",
       "       'Cho Won Family Restaurant', 'Katsuya', 'Jungsoo Nae 정수네',\n",
       "       'Altona Kebob', 'Earth Indian Restaurant', 'Kenzo Ramen',\n",
       "       'Altona Kebab', 'Hung Long', 'Pho Mi Nha Trang',\n",
       "       'Reliable Halibut and Chips', 'Tabule', 'Baldini',\n",
       "       'Ascari Enoteca', 'Completo', 'braised', 'eastside social',\n",
       "       'Hanoi 3 Seasons', 'Ruby WatchCo.', 'Kibo Sushi House',\n",
       "       \"Gare De L'est\", 'EAT BKK Thai Kitchen', 'Batifole',\n",
       "       'The Real Jerk Restaurant', 'Brooklyn Tavern', 'Bach Yen',\n",
       "       'Mean Bao', 'Maple Leaf Tavern', 'Pho Que Ling',\n",
       "       'Mi Mi Restaurant', 'Barrio Cerveceria', \"Greta Solomon's\",\n",
       "       \"Simon's Wok\", \"Gio Rana's Really Really Nice Restaurant\",\n",
       "       'The Friendly Thai', 'Leslie Jones', 'Liberty Shawarma',\n",
       "       'Darbar Persian Grill', 'Tutto Pronto', 'Drums N Flats',\n",
       "       'Francobollo', 'The Copper Chimney', 'Satay on the Road',\n",
       "       'Sakura Garden', 'Karbouzi Greek Taverna', 'Safari Bar and Grill',\n",
       "       'Il Fornaro', 'Nara Sushi', 'Thai One On in North York',\n",
       "       'Commisso Bros. & Racco Italian Bakery', 'Jatujak',\n",
       "       'Konjiki Ramen', \"The Captain's Boil\", 'Satay Sate',\n",
       "       'Sushi Moto Sake & Wine Bar', 'Sushi Bong', 'Wako Sushi + Bar',\n",
       "       'Dakgogi', 'Owl of Minerva', 'Sushi One', 'Hakata Shoryuken Ramen',\n",
       "       'Buk Chang Dong Soon Tofu 북창동 순두부 돌솥밥', 'Union Social Eatery',\n",
       "       'Baton Rouge', 'Ajisen Ramen 味千ラーメン', 'Sang-Ji Fried Bao',\n",
       "       'Aburi Room', 'Roll.com', 'Artisan Noodle 老碗', 'Shawarma Max',\n",
       "       'Haida Sandwich', 'Nolbu', 'Symposium Cafe Restaurant & Lounge',\n",
       "       'Lee Town Restaurant', 'Kenzo Japanese Ramen House', 'Bar Koyoi',\n",
       "       'Mezza Notte Trattoria', 'Nomé Izakaya',\n",
       "       'Pho 88 Vietnamese Cuisine', \"Paisano's\", 'Ava Food Market',\n",
       "       'Inakaya', 'Pho Com Viet Nam', 'Pita Land', 'Living Well',\n",
       "       'Perkins', 'Tri Star Restaurant', 'Ferraro', 'EDO', 'Kimono',\n",
       "       'Saigon Bangkok', 'Roti Time', 'Island Breeze', 'Kairali',\n",
       "       'Spicy Dragon', 'Kim Kim restaurant', 'Nova Ristorante',\n",
       "       'Karaikudi Chettinad South Indian Restaurant',\n",
       "       'Lucky Chinese (Haka) Restaurant', 'Pho Vietnam', 'Taco Bell',\n",
       "       'Jesse Jr. Filipino Foods', 'Auberge du Pommier', 'Pearl City',\n",
       "       \"Marcello's Market and Deli\", 'Bar Buca', 'La Vecchia Ristorante',\n",
       "       'Cibo Wine Bar', 'Grazie Ristorante', 'Fresh', 'Hokkaido Sushi',\n",
       "       'Star King', 'B.GOOD', 'Sushi Shop', 'Zee Grill',\n",
       "       'The Keg Steakhouse + Bar - Yonge + Eglinton', 'Positano',\n",
       "       'Sushi Rock Café', \"Tio's Urban Mexican\", 'Sakae Sushi',\n",
       "       'Touhenboku Ramen 唐変木', 'Green Papaya', \"C'est Bon\",\n",
       "       'Centro Restaurant & Lounge', 'Banh Mi Boys', 'souvlaki express',\n",
       "       'Mashu Mashu Mediterranean Grill', 'Sake Bar Kushi', 'Darbar',\n",
       "       'Freshii', 'Doppio Zero', 'nodo', 'Honest Weight',\n",
       "       'Annette Food Market', 'Curry Twist', 'Playa Cabana Cantina',\n",
       "       'Isaan Der', 'Love Chix', 'Osaka Sushi', 'Lan Sushi', 'Silk',\n",
       "       'The Thai', 'ROUX', 'Pho Huong', 'Bricco Wine Bar', 'Sushi Place',\n",
       "       'Mersin Mediterranean Cuisine', 'La Revolucion',\n",
       "       \"Hannah's Cafe and Bakery\", 'My Thai Kitchen',\n",
       "       'Mayflower Chinese Food', '2 Bros Cuisine', 'Pho Metro',\n",
       "       'Pili Pili Toronto', 'Makkalchon Korean Restaurant 맛깔촌',\n",
       "       'Ibrahim BBQ', 'Shawarma Empire', 'Patna Kebab House',\n",
       "       \"Diana's Oyster Bar & Grill\", \"Nasib's Shawarma & Falafel\",\n",
       "       'FV Foods', 'Kim Ling Indian Chinese Restaurant',\n",
       "       'Belle Restaurant', 'Roti Cuisine of India', 'Playa Cabana',\n",
       "       'Live Organic Food Bar', 'Fet Zun', 'Fresh on Bloor',\n",
       "       \"L'Unita Restaurant\", 'Mistura', \"Joso's\",\n",
       "       'Real Thailand Restaurant', 'The Original Gyro Grill',\n",
       "       'Insomnia Restaurant and Lounge', 'Le Paradis',\n",
       "       'Country Style Hungarian Restaurant', 'Flor de Sal',\n",
       "       'Famoso Neapolitan Pizzeria', 'By the Way Cafe', 'Gyubee',\n",
       "       'Sotto Sotto', 'Playa Cabana Hacienda', 'Fieramosca Cafe',\n",
       "       \"Govinda's\", 'Museum Tavern', 'Bar Mercurio', 'The Host',\n",
       "       'Bua Thai', 'Opus Restaurant', 'Inter Steer',\n",
       "       'Domani Restaurant & Wine Bar', 'Cider House', 'The Ace',\n",
       "       'Sushi On Roncy', 'Café Polonez', 'Aris Place',\n",
       "       'Sues Thai food (vickys)', 'the Friendly Thai', 'Kami Sushi',\n",
       "       'Chopin Restaurant', 'The Commoner', 'China Island', 'Pho Nho',\n",
       "       'Vincent Sushi', 'House of Pepper', 'Gospel Cafe & Restaurant',\n",
       "       'Masamune', 'Pita & Grill', \"Nando's\", 'The Belfast Lounge',\n",
       "       'Royal Jasmine', 'Zauq', 'Barbq Tonight', 'Kandahar Kabab',\n",
       "       'Arigato', 'Anoush Middle Eastern Cuisine', 'Pho Tai Lo Viet',\n",
       "       'Dynasty BBQ restaurant', \"Yogi's Noodles\",\n",
       "       'Montfort Mediterranean Cuisine', 'Gourmet Express',\n",
       "       'Martingrove Fish and Chips', 'The Roti Hut', \"Mona's Roti\",\n",
       "       'Babu Catering & Take Out',\n",
       "       'Grandeur Palace 華丽宮 (Grandeur Palace 華麗宮)',\n",
       "       'Yummy Cantonese Restaurant 老西関腸粉',\n",
       "       'Silver Spoon Pak-Indian Restaurant', 'Gourmet Malaysia 膳園',\n",
       "       'Congee Me 小米粥鋪', 'Jesse Jr. (Filipino Foods & Restaurant)',\n",
       "       'Asian Legend 味香村', 'El Pulgarcito', 'Sushi Legend',\n",
       "       'Perfect Chinese Restaurant 雅瓊海鮮酒家', 'Borsalino',\n",
       "       'Shanghai Dim Sum', 'Asian Specialty',\n",
       "       '港島茶餐 Hong Kong Style Tea & Fast Food', 'Asia Spa',\n",
       "       'Marigold Indian Bistro', 'Balsamico', 'Little Sister',\n",
       "       'Florentia Ristorante', 'Thai Spicy House', 'Five Doors North',\n",
       "       'Noorden Food x Bar', 'Tabülè', 'Zezafoun Syrian Cuisine',\n",
       "       'Lola Sushi', 'Grano', 'Echo Sushi', 'Coquine Restaurant',\n",
       "       'Starving Artist', \"Chacho's\", 'Il Sogno', 'Ritz Caribbean Food',\n",
       "       'Sushi Supreme', 'Flaming Stove', 'Quick Pita', \"Mariachi's\",\n",
       "       'Yasu', 'Rasa', 'Piano Piano', 'Cafe Cancan', 'Akai Sushi',\n",
       "       'Harvest Kitchen', \"Otto's Berlin Döner\", 'El Trompo', 'Hibiscus',\n",
       "       'Seven Lives - Tacos y Mariscos', 'Isshin Ramen 一心', 'FILM CAFE',\n",
       "       'Golden Patty', 'Urban Herbivore', 'Wafels and More', 'Sheherzade',\n",
       "       'Torteria San Cosme', 'Saigon Lotus Restaurant', 'Campo',\n",
       "       'Asa Sushi', \"Queen's Pasta Café\", 'Falafel World', 'Yumi Sushi',\n",
       "       'Amber European Restaurant', 'Bloom Restaurant', 'Simply Thai',\n",
       "       'Goodfellas Wood Oven Pizza', 'Old Mill Toronto', 'Awai',\n",
       "       'Bukhara indian cuisine', 'Supper Solved',\n",
       "       'Chris Jerk Caribbean Bistro', 'Remezzo Italian Bistro',\n",
       "       'The Royal Chinese Restaurant 避風塘小炒', 'Kub Khao', 'Mexico Lindo',\n",
       "       \"Hunter's Pizza\", 'Congee Queen 皇后名粥', 'Bong Lua',\n",
       "       \"Wei's Taiwenese Food\", 'Capocaccia Café', 'Mary Be Kitchen',\n",
       "       'Spiga', 'New Thai Restaurant', 'Sushi Garden',\n",
       "       'Boccone Deli Cafe & Pizza', 'Kwan Restaurant', 'Schnitzel HUB',\n",
       "       'Suki Japanese Cuisine', 'Nove Trattoria', \"Barnsteiner's\",\n",
       "       'Sprout', 'Mr. Thai', 'Sushi Gen', 'Banh Mi Nguyen Huong',\n",
       "       \"King's Cafe\", \"Buddha's Vegetarian\", 'Kanto', 'Alo',\n",
       "       'Juicy Dumpling', 'Aloette', 'Fresh On Spadina',\n",
       "       'Saffron Spice Kitchen', 'Patois Toronto', 'Bar Raval',\n",
       "       'Fahmee Bakery & Jamaican Foods',\n",
       "       'Lotus Pond Vegetarian Restaurant 蓮花素食', 'Magic Noodle 大槐樹',\n",
       "       'South Asia Malaysian Cuisine 南亞馬來美食', 'Chako Barbeque Izakaya',\n",
       "       'Fortune Restaurant', 'Fok Yuan Seafood Restaurant',\n",
       "       'Dong Kee Chinese Restaurant', 'Gyubee Japanese Grill',\n",
       "       'Hot Party Restaurant', 'Scaramouche', 'Daeco Sushi',\n",
       "       'kibo sushi house', 'nutbar', 'Asahi Sushi',\n",
       "       \"Wylie's Neighbourhood Pub\", 'Brownes Bistro', 'Huevos Gourmet',\n",
       "       'Cellar Door Restaurant', 'New Toronto Fish & Chips',\n",
       "       'Bombay on the Lake', 'Maple Leaf House', 'Caribbean Heat 2',\n",
       "       'Mr Congee Chinese Cuisine 龍粥記', 'Phoenix Restaurant 金鳳餐廳',\n",
       "       'Happy Lamb Hot Pot', 'Mainsha Caribbean Restaurant',\n",
       "       'Divine Wok Restaurant', 'Dumpling & Szechuan Cuisine（川流不息店）',\n",
       "       'Tinuno', 'Nijo Japanese Restaurant', 'Morocco House',\n",
       "       'Kingyo Toronto', 'Butter Chicken Factory', \"F'Amelia\",\n",
       "       'Murgatroid', 'Zakkushi ざっ串', 'Mr. Jerk', 'Kanpai Snack Bar',\n",
       "       'Thai To Go', 'The Blake House',\n",
       "       'Ma Maison, Boulangerie - Patisserie - Traiteur',\n",
       "       'Kingsway Fish & Chips', 'Azarias', 'Momiji Sushi Bar & Grill',\n",
       "       'Vibo', 'Merlot', 'La Veranda Osteria',\n",
       "       'Chutneys Fine Indian Cuisine', 'Sushi 2 Go', 'Just Greek',\n",
       "       'Sabai Sabai', 'Kawa Sushi', 'Onnki Donburi', \"Mamma Martino's\",\n",
       "       'Luci Restaurant', 'Izba Schnitzel House', 'K & B Sushi',\n",
       "       'The Pie Commission', 'Shawarma Grill Express', 'Chaban',\n",
       "       'Spoon and Fork', 'Mangosteens Thai Cuisine', 'La Tortilleria',\n",
       "       'Milestones', \"Montana's\", \"Rocco's Plum Tomato\",\n",
       "       'Kelseys Original Roadhouse', 'Buon Giorno Cafe',\n",
       "       'High Seas Restaurant'], dtype=object)"
      ]
     },
     "execution_count": 58,
     "metadata": {},
     "output_type": "execute_result"
    }
   ],
   "source": [
    "toronto_restaurants['Venue'].unique()"
   ]
  },
  {
   "cell_type": "code",
   "execution_count": 59,
   "metadata": {},
   "outputs": [
    {
     "data": {
      "text/plain": [
       "Neighborhood              30\n",
       "Neighborhood Latitude     30\n",
       "Neighborhood Longitude    30\n",
       "Venue                     30\n",
       "Venue Latitude            30\n",
       "Venue Longitude           30\n",
       "Venue Category            30\n",
       "dtype: int64"
      ]
     },
     "execution_count": 59,
     "metadata": {},
     "output_type": "execute_result"
    }
   ],
   "source": [
    "toronto_restaurants[toronto_restaurants['Venue Category'].str.contains('Vietnamese')].count()"
   ]
  },
  {
   "cell_type": "code",
   "execution_count": 60,
   "metadata": {},
   "outputs": [],
   "source": [
    "vietnamese_restaurants = toronto_restaurants[toronto_restaurants['Venue Category'].str.contains('Vietnamese')]"
   ]
  },
  {
   "cell_type": "code",
   "execution_count": 61,
   "metadata": {},
   "outputs": [],
   "source": [
    "vietnamese_restaurants = vietnamese_restaurants.reset_index(drop=True)"
   ]
  },
  {
   "cell_type": "code",
   "execution_count": 121,
   "metadata": {},
   "outputs": [
    {
     "data": {
      "text/plain": [
       "(30, 7)"
      ]
     },
     "execution_count": 121,
     "metadata": {},
     "output_type": "execute_result"
    }
   ],
   "source": [
    "vietnamese_restaurants.shape"
   ]
  },
  {
   "cell_type": "markdown",
   "metadata": {},
   "source": [
    "### check how many venues were returned for each neighborhood"
   ]
  },
  {
   "cell_type": "code",
   "execution_count": 63,
   "metadata": {},
   "outputs": [
    {
     "data": {
      "text/html": [
       "<div>\n",
       "<style scoped>\n",
       "    .dataframe tbody tr th:only-of-type {\n",
       "        vertical-align: middle;\n",
       "    }\n",
       "\n",
       "    .dataframe tbody tr th {\n",
       "        vertical-align: top;\n",
       "    }\n",
       "\n",
       "    .dataframe thead th {\n",
       "        text-align: right;\n",
       "    }\n",
       "</style>\n",
       "<table border=\"1\" class=\"dataframe\">\n",
       "  <thead>\n",
       "    <tr style=\"text-align: right;\">\n",
       "      <th></th>\n",
       "      <th>Neighborhood Latitude</th>\n",
       "      <th>Neighborhood Longitude</th>\n",
       "      <th>Venue</th>\n",
       "      <th>Venue Latitude</th>\n",
       "      <th>Venue Longitude</th>\n",
       "      <th>Venue Category</th>\n",
       "    </tr>\n",
       "    <tr>\n",
       "      <th>Neighborhood</th>\n",
       "      <th></th>\n",
       "      <th></th>\n",
       "      <th></th>\n",
       "      <th></th>\n",
       "      <th></th>\n",
       "      <th></th>\n",
       "    </tr>\n",
       "  </thead>\n",
       "  <tbody>\n",
       "    <tr>\n",
       "      <th>Agincourt</th>\n",
       "      <td>19</td>\n",
       "      <td>19</td>\n",
       "      <td>19</td>\n",
       "      <td>19</td>\n",
       "      <td>19</td>\n",
       "      <td>19</td>\n",
       "    </tr>\n",
       "    <tr>\n",
       "      <th>Alderwood, Long Branch</th>\n",
       "      <td>1</td>\n",
       "      <td>1</td>\n",
       "      <td>1</td>\n",
       "      <td>1</td>\n",
       "      <td>1</td>\n",
       "      <td>1</td>\n",
       "    </tr>\n",
       "    <tr>\n",
       "      <th>Bathurst Manor, Wilson Heights, Downsview North</th>\n",
       "      <td>4</td>\n",
       "      <td>4</td>\n",
       "      <td>4</td>\n",
       "      <td>4</td>\n",
       "      <td>4</td>\n",
       "      <td>4</td>\n",
       "    </tr>\n",
       "    <tr>\n",
       "      <th>Bayview Village</th>\n",
       "      <td>4</td>\n",
       "      <td>4</td>\n",
       "      <td>4</td>\n",
       "      <td>4</td>\n",
       "      <td>4</td>\n",
       "      <td>4</td>\n",
       "    </tr>\n",
       "    <tr>\n",
       "      <th>Bedford Park, Lawrence Manor East</th>\n",
       "      <td>15</td>\n",
       "      <td>15</td>\n",
       "      <td>15</td>\n",
       "      <td>15</td>\n",
       "      <td>15</td>\n",
       "      <td>15</td>\n",
       "    </tr>\n",
       "    <tr>\n",
       "      <th>...</th>\n",
       "      <td>...</td>\n",
       "      <td>...</td>\n",
       "      <td>...</td>\n",
       "      <td>...</td>\n",
       "      <td>...</td>\n",
       "      <td>...</td>\n",
       "    </tr>\n",
       "    <tr>\n",
       "      <th>Willowdale, Willowdale East</th>\n",
       "      <td>36</td>\n",
       "      <td>36</td>\n",
       "      <td>36</td>\n",
       "      <td>36</td>\n",
       "      <td>36</td>\n",
       "      <td>36</td>\n",
       "    </tr>\n",
       "    <tr>\n",
       "      <th>Willowdale, Willowdale West</th>\n",
       "      <td>1</td>\n",
       "      <td>1</td>\n",
       "      <td>1</td>\n",
       "      <td>1</td>\n",
       "      <td>1</td>\n",
       "      <td>1</td>\n",
       "    </tr>\n",
       "    <tr>\n",
       "      <th>Woburn</th>\n",
       "      <td>3</td>\n",
       "      <td>3</td>\n",
       "      <td>3</td>\n",
       "      <td>3</td>\n",
       "      <td>3</td>\n",
       "      <td>3</td>\n",
       "    </tr>\n",
       "    <tr>\n",
       "      <th>Woodbine Heights</th>\n",
       "      <td>1</td>\n",
       "      <td>1</td>\n",
       "      <td>1</td>\n",
       "      <td>1</td>\n",
       "      <td>1</td>\n",
       "      <td>1</td>\n",
       "    </tr>\n",
       "    <tr>\n",
       "      <th>York Mills West</th>\n",
       "      <td>4</td>\n",
       "      <td>4</td>\n",
       "      <td>4</td>\n",
       "      <td>4</td>\n",
       "      <td>4</td>\n",
       "      <td>4</td>\n",
       "    </tr>\n",
       "  </tbody>\n",
       "</table>\n",
       "<p>90 rows × 6 columns</p>\n",
       "</div>"
      ],
      "text/plain": [
       "                                                 Neighborhood Latitude  \\\n",
       "Neighborhood                                                             \n",
       "Agincourt                                                           19   \n",
       "Alderwood, Long Branch                                               1   \n",
       "Bathurst Manor, Wilson Heights, Downsview North                      4   \n",
       "Bayview Village                                                      4   \n",
       "Bedford Park, Lawrence Manor East                                   15   \n",
       "...                                                                ...   \n",
       "Willowdale, Willowdale East                                         36   \n",
       "Willowdale, Willowdale West                                          1   \n",
       "Woburn                                                               3   \n",
       "Woodbine Heights                                                     1   \n",
       "York Mills West                                                      4   \n",
       "\n",
       "                                                 Neighborhood Longitude  \\\n",
       "Neighborhood                                                              \n",
       "Agincourt                                                            19   \n",
       "Alderwood, Long Branch                                                1   \n",
       "Bathurst Manor, Wilson Heights, Downsview North                       4   \n",
       "Bayview Village                                                       4   \n",
       "Bedford Park, Lawrence Manor East                                    15   \n",
       "...                                                                 ...   \n",
       "Willowdale, Willowdale East                                          36   \n",
       "Willowdale, Willowdale West                                           1   \n",
       "Woburn                                                                3   \n",
       "Woodbine Heights                                                      1   \n",
       "York Mills West                                                       4   \n",
       "\n",
       "                                                 Venue  Venue Latitude  \\\n",
       "Neighborhood                                                             \n",
       "Agincourt                                           19              19   \n",
       "Alderwood, Long Branch                               1               1   \n",
       "Bathurst Manor, Wilson Heights, Downsview North      4               4   \n",
       "Bayview Village                                      4               4   \n",
       "Bedford Park, Lawrence Manor East                   15              15   \n",
       "...                                                ...             ...   \n",
       "Willowdale, Willowdale East                         36              36   \n",
       "Willowdale, Willowdale West                          1               1   \n",
       "Woburn                                               3               3   \n",
       "Woodbine Heights                                     1               1   \n",
       "York Mills West                                      4               4   \n",
       "\n",
       "                                                 Venue Longitude  \\\n",
       "Neighborhood                                                       \n",
       "Agincourt                                                     19   \n",
       "Alderwood, Long Branch                                         1   \n",
       "Bathurst Manor, Wilson Heights, Downsview North                4   \n",
       "Bayview Village                                                4   \n",
       "Bedford Park, Lawrence Manor East                             15   \n",
       "...                                                          ...   \n",
       "Willowdale, Willowdale East                                   36   \n",
       "Willowdale, Willowdale West                                    1   \n",
       "Woburn                                                         3   \n",
       "Woodbine Heights                                               1   \n",
       "York Mills West                                                4   \n",
       "\n",
       "                                                 Venue Category  \n",
       "Neighborhood                                                     \n",
       "Agincourt                                                    19  \n",
       "Alderwood, Long Branch                                        1  \n",
       "Bathurst Manor, Wilson Heights, Downsview North               4  \n",
       "Bayview Village                                               4  \n",
       "Bedford Park, Lawrence Manor East                            15  \n",
       "...                                                         ...  \n",
       "Willowdale, Willowdale East                                  36  \n",
       "Willowdale, Willowdale West                                   1  \n",
       "Woburn                                                        3  \n",
       "Woodbine Heights                                              1  \n",
       "York Mills West                                               4  \n",
       "\n",
       "[90 rows x 6 columns]"
      ]
     },
     "execution_count": 63,
     "metadata": {},
     "output_type": "execute_result"
    }
   ],
   "source": [
    "toronto_restaurants.groupby('Neighborhood').count()"
   ]
  },
  {
   "cell_type": "markdown",
   "metadata": {},
   "source": [
    "### display vietnamese restaurants and toronto neighborhoods on the map\n",
    "red = Vietnamese restaurant\n",
    "blue = Toronto neighborhoods"
   ]
  },
  {
   "cell_type": "code",
   "execution_count": 64,
   "metadata": {
    "scrolled": false
   },
   "outputs": [
    {
     "data": {
      "text/html": [
       "<div style=\"width:100%;\"><div style=\"position:relative;width:100%;height:0;padding-bottom:60%;\"><span style=\"color:#565656\">Make this Notebook Trusted to load map: File -> Trust Notebook</span><iframe src=\"about:blank\" style=\"position:absolute;width:100%;height:100%;left:0;top:0;border:none !important;\" data-html=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 onload=\"this.contentDocument.open();this.contentDocument.write(atob(this.getAttribute('data-html')));this.contentDocument.close();\" allowfullscreen webkitallowfullscreen mozallowfullscreen></iframe></div></div>"
      ],
      "text/plain": [
       "<folium.folium.Map at 0x2462fe6ca88>"
      ]
     },
     "execution_count": 64,
     "metadata": {},
     "output_type": "execute_result"
    }
   ],
   "source": [
    "# create map of Toronto using latitude and longitude values\n",
    "map_toronto = folium.Map(location=[latitude, longitude], zoom_start=10)\n",
    "\n",
    "# add markers to map\n",
    "for lat, lng, borough, neighborhood in zip(neighborhoods['Latitude'], neighborhoods['Longitude'], neighborhoods['Borough'], neighborhoods['Neighborhood']):\n",
    "    label = '{}, {}'.format(neighborhood, borough)\n",
    "    label = folium.Popup(label, parse_html=True)\n",
    "    folium.CircleMarker(\n",
    "        [lat, lng],\n",
    "        radius=5,\n",
    "        popup=label,\n",
    "        color='blue',\n",
    "        fill=True,\n",
    "        fill_color='#3186cc',\n",
    "        fill_opacity=0.7,\n",
    "        parse_html=False).add_to(map_toronto)  \n",
    "    \n",
    "\n",
    "# add markers to map\n",
    "for lat, lng, venue, neighborhood in zip(vietnamese_restaurants['Venue Latitude'], vietnamese_restaurants['Venue Longitude'], vietnamese_restaurants['Venue'], vietnamese_restaurants['Neighborhood']):\n",
    "    label = '{}, {}'.format(venue, neighborhood)\n",
    "    label = folium.Popup(label, parse_html=True)\n",
    "    folium.CircleMarker(\n",
    "        [lat, lng],\n",
    "        radius=5,\n",
    "        popup=label,\n",
    "        color='red',\n",
    "        fill=True,\n",
    "        fill_opacity=0.7,\n",
    "        parse_html=False).add_to(map_toronto)  \n",
    "    \n",
    "map_toronto"
   ]
  },
  {
   "cell_type": "markdown",
   "metadata": {},
   "source": [
    "### Converting all Venue Category into either Vietnamese Restaurant or Non-Vietnamese Restaurant"
   ]
  },
  {
   "cell_type": "code",
   "execution_count": 91,
   "metadata": {
    "scrolled": true
   },
   "outputs": [
    {
     "data": {
      "text/html": [
       "<div>\n",
       "<style scoped>\n",
       "    .dataframe tbody tr th:only-of-type {\n",
       "        vertical-align: middle;\n",
       "    }\n",
       "\n",
       "    .dataframe tbody tr th {\n",
       "        vertical-align: top;\n",
       "    }\n",
       "\n",
       "    .dataframe thead th {\n",
       "        text-align: right;\n",
       "    }\n",
       "</style>\n",
       "<table border=\"1\" class=\"dataframe\">\n",
       "  <thead>\n",
       "    <tr style=\"text-align: right;\">\n",
       "      <th></th>\n",
       "      <th>Neighborhood</th>\n",
       "      <th>Neighborhood Latitude</th>\n",
       "      <th>Neighborhood Longitude</th>\n",
       "      <th>Venue</th>\n",
       "      <th>Venue Latitude</th>\n",
       "      <th>Venue Longitude</th>\n",
       "      <th>Venue Category</th>\n",
       "    </tr>\n",
       "  </thead>\n",
       "  <tbody>\n",
       "    <tr>\n",
       "      <th>0</th>\n",
       "      <td>Parkwoods</td>\n",
       "      <td>43.753259</td>\n",
       "      <td>-79.329656</td>\n",
       "      <td>Allwyn's Bakery</td>\n",
       "      <td>43.759840</td>\n",
       "      <td>-79.324719</td>\n",
       "      <td>Caribbean Restaurant</td>\n",
       "    </tr>\n",
       "    <tr>\n",
       "      <th>1</th>\n",
       "      <td>Parkwoods</td>\n",
       "      <td>43.753259</td>\n",
       "      <td>-79.329656</td>\n",
       "      <td>A&amp;W</td>\n",
       "      <td>43.760643</td>\n",
       "      <td>-79.326865</td>\n",
       "      <td>Fast Food Restaurant</td>\n",
       "    </tr>\n",
       "    <tr>\n",
       "      <th>2</th>\n",
       "      <td>Parkwoods</td>\n",
       "      <td>43.753259</td>\n",
       "      <td>-79.329656</td>\n",
       "      <td>Spicy Chicken House</td>\n",
       "      <td>43.760639</td>\n",
       "      <td>-79.325671</td>\n",
       "      <td>Chinese Restaurant</td>\n",
       "    </tr>\n",
       "    <tr>\n",
       "      <th>3</th>\n",
       "      <td>Victoria Village</td>\n",
       "      <td>43.725882</td>\n",
       "      <td>-79.315572</td>\n",
       "      <td>Portugril</td>\n",
       "      <td>43.725819</td>\n",
       "      <td>-79.312785</td>\n",
       "      <td>Portuguese Restaurant</td>\n",
       "    </tr>\n",
       "    <tr>\n",
       "      <th>4</th>\n",
       "      <td>Victoria Village</td>\n",
       "      <td>43.725882</td>\n",
       "      <td>-79.315572</td>\n",
       "      <td>The Frig</td>\n",
       "      <td>43.727051</td>\n",
       "      <td>-79.317418</td>\n",
       "      <td>French Restaurant</td>\n",
       "    </tr>\n",
       "  </tbody>\n",
       "</table>\n",
       "</div>"
      ],
      "text/plain": [
       "       Neighborhood  Neighborhood Latitude  Neighborhood Longitude  \\\n",
       "0         Parkwoods              43.753259              -79.329656   \n",
       "1         Parkwoods              43.753259              -79.329656   \n",
       "2         Parkwoods              43.753259              -79.329656   \n",
       "3  Victoria Village              43.725882              -79.315572   \n",
       "4  Victoria Village              43.725882              -79.315572   \n",
       "\n",
       "                 Venue  Venue Latitude  Venue Longitude         Venue Category  \n",
       "0      Allwyn's Bakery       43.759840       -79.324719   Caribbean Restaurant  \n",
       "1                  A&W       43.760643       -79.326865   Fast Food Restaurant  \n",
       "2  Spicy Chicken House       43.760639       -79.325671     Chinese Restaurant  \n",
       "3            Portugril       43.725819       -79.312785  Portuguese Restaurant  \n",
       "4             The Frig       43.727051       -79.317418      French Restaurant  "
      ]
     },
     "execution_count": 91,
     "metadata": {},
     "output_type": "execute_result"
    }
   ],
   "source": [
    "toronto_restaurants.head()"
   ]
  },
  {
   "cell_type": "code",
   "execution_count": 97,
   "metadata": {},
   "outputs": [],
   "source": [
    "df1 = toronto_restaurants.groupby(by='Neighborhood', as_index=False).agg({'Venue Category': pd.Series.nunique})"
   ]
  },
  {
   "cell_type": "code",
   "execution_count": 98,
   "metadata": {
    "scrolled": true
   },
   "outputs": [
    {
     "data": {
      "text/html": [
       "<div>\n",
       "<style scoped>\n",
       "    .dataframe tbody tr th:only-of-type {\n",
       "        vertical-align: middle;\n",
       "    }\n",
       "\n",
       "    .dataframe tbody tr th {\n",
       "        vertical-align: top;\n",
       "    }\n",
       "\n",
       "    .dataframe thead th {\n",
       "        text-align: right;\n",
       "    }\n",
       "</style>\n",
       "<table border=\"1\" class=\"dataframe\">\n",
       "  <thead>\n",
       "    <tr style=\"text-align: right;\">\n",
       "      <th></th>\n",
       "      <th>Neighborhood</th>\n",
       "      <th>Venue Category</th>\n",
       "    </tr>\n",
       "  </thead>\n",
       "  <tbody>\n",
       "    <tr>\n",
       "      <th>0</th>\n",
       "      <td>Agincourt</td>\n",
       "      <td>13</td>\n",
       "    </tr>\n",
       "    <tr>\n",
       "      <th>1</th>\n",
       "      <td>Alderwood, Long Branch</td>\n",
       "      <td>1</td>\n",
       "    </tr>\n",
       "    <tr>\n",
       "      <th>2</th>\n",
       "      <td>Bathurst Manor, Wilson Heights, Downsview North</td>\n",
       "      <td>4</td>\n",
       "    </tr>\n",
       "    <tr>\n",
       "      <th>3</th>\n",
       "      <td>Bayview Village</td>\n",
       "      <td>3</td>\n",
       "    </tr>\n",
       "    <tr>\n",
       "      <th>4</th>\n",
       "      <td>Bedford Park, Lawrence Manor East</td>\n",
       "      <td>10</td>\n",
       "    </tr>\n",
       "  </tbody>\n",
       "</table>\n",
       "</div>"
      ],
      "text/plain": [
       "                                      Neighborhood  Venue Category\n",
       "0                                        Agincourt              13\n",
       "1                           Alderwood, Long Branch               1\n",
       "2  Bathurst Manor, Wilson Heights, Downsview North               4\n",
       "3                                  Bayview Village               3\n",
       "4                Bedford Park, Lawrence Manor East              10"
      ]
     },
     "execution_count": 98,
     "metadata": {},
     "output_type": "execute_result"
    }
   ],
   "source": [
    "df1.head()"
   ]
  },
  {
   "cell_type": "code",
   "execution_count": 102,
   "metadata": {},
   "outputs": [],
   "source": [
    "df1 = df1.sort_values(by=['Venue Category'], ascending=False)"
   ]
  },
  {
   "cell_type": "code",
   "execution_count": 105,
   "metadata": {},
   "outputs": [],
   "source": [
    "top_neighborhood = df1.head(10)"
   ]
  },
  {
   "cell_type": "code",
   "execution_count": 107,
   "metadata": {},
   "outputs": [],
   "source": [
    "top_neighborhood = top_neighborhood.reset_index(drop=True)"
   ]
  },
  {
   "cell_type": "code",
   "execution_count": 108,
   "metadata": {
    "scrolled": true
   },
   "outputs": [
    {
     "data": {
      "text/html": [
       "<div>\n",
       "<style scoped>\n",
       "    .dataframe tbody tr th:only-of-type {\n",
       "        vertical-align: middle;\n",
       "    }\n",
       "\n",
       "    .dataframe tbody tr th {\n",
       "        vertical-align: top;\n",
       "    }\n",
       "\n",
       "    .dataframe thead th {\n",
       "        text-align: right;\n",
       "    }\n",
       "</style>\n",
       "<table border=\"1\" class=\"dataframe\">\n",
       "  <thead>\n",
       "    <tr style=\"text-align: right;\">\n",
       "      <th></th>\n",
       "      <th>Neighborhood</th>\n",
       "      <th>Venue Category</th>\n",
       "    </tr>\n",
       "  </thead>\n",
       "  <tbody>\n",
       "    <tr>\n",
       "      <th>0</th>\n",
       "      <td>Little Portugal, Trinity</td>\n",
       "      <td>18</td>\n",
       "    </tr>\n",
       "    <tr>\n",
       "      <th>1</th>\n",
       "      <td>Davisville</td>\n",
       "      <td>18</td>\n",
       "    </tr>\n",
       "    <tr>\n",
       "      <th>2</th>\n",
       "      <td>University of Toronto, Harbord</td>\n",
       "      <td>18</td>\n",
       "    </tr>\n",
       "    <tr>\n",
       "      <th>3</th>\n",
       "      <td>Christie</td>\n",
       "      <td>17</td>\n",
       "    </tr>\n",
       "    <tr>\n",
       "      <th>4</th>\n",
       "      <td>The Annex, North Midtown, Yorkville</td>\n",
       "      <td>16</td>\n",
       "    </tr>\n",
       "    <tr>\n",
       "      <th>5</th>\n",
       "      <td>The Danforth West, Riverdale</td>\n",
       "      <td>16</td>\n",
       "    </tr>\n",
       "    <tr>\n",
       "      <th>6</th>\n",
       "      <td>Kensington Market, Chinatown, Grange Park</td>\n",
       "      <td>15</td>\n",
       "    </tr>\n",
       "    <tr>\n",
       "      <th>7</th>\n",
       "      <td>East Toronto, Broadview North (Old East York)</td>\n",
       "      <td>15</td>\n",
       "    </tr>\n",
       "    <tr>\n",
       "      <th>8</th>\n",
       "      <td>Studio District</td>\n",
       "      <td>15</td>\n",
       "    </tr>\n",
       "    <tr>\n",
       "      <th>9</th>\n",
       "      <td>Willowdale, Willowdale East</td>\n",
       "      <td>14</td>\n",
       "    </tr>\n",
       "  </tbody>\n",
       "</table>\n",
       "</div>"
      ],
      "text/plain": [
       "                                    Neighborhood  Venue Category\n",
       "0                       Little Portugal, Trinity              18\n",
       "1                                     Davisville              18\n",
       "2                 University of Toronto, Harbord              18\n",
       "3                                       Christie              17\n",
       "4            The Annex, North Midtown, Yorkville              16\n",
       "5                   The Danforth West, Riverdale              16\n",
       "6      Kensington Market, Chinatown, Grange Park              15\n",
       "7  East Toronto, Broadview North (Old East York)              15\n",
       "8                                Studio District              15\n",
       "9                    Willowdale, Willowdale East              14"
      ]
     },
     "execution_count": 108,
     "metadata": {},
     "output_type": "execute_result"
    }
   ],
   "source": [
    "top_neighborhood"
   ]
  },
  {
   "cell_type": "code",
   "execution_count": null,
   "metadata": {},
   "outputs": [],
   "source": []
  },
  {
   "cell_type": "code",
   "execution_count": 92,
   "metadata": {
    "scrolled": true
   },
   "outputs": [
    {
     "data": {
      "text/html": [
       "<div>\n",
       "<style scoped>\n",
       "    .dataframe tbody tr th:only-of-type {\n",
       "        vertical-align: middle;\n",
       "    }\n",
       "\n",
       "    .dataframe tbody tr th {\n",
       "        vertical-align: top;\n",
       "    }\n",
       "\n",
       "    .dataframe thead th {\n",
       "        text-align: right;\n",
       "    }\n",
       "</style>\n",
       "<table border=\"1\" class=\"dataframe\">\n",
       "  <thead>\n",
       "    <tr style=\"text-align: right;\">\n",
       "      <th></th>\n",
       "      <th>Neighborhood</th>\n",
       "      <th>Neighborhood Latitude</th>\n",
       "      <th>Neighborhood Longitude</th>\n",
       "      <th>Venue Latitude</th>\n",
       "      <th>Venue Longitude</th>\n",
       "    </tr>\n",
       "  </thead>\n",
       "  <tbody>\n",
       "    <tr>\n",
       "      <th>0</th>\n",
       "      <td>Agincourt</td>\n",
       "      <td>43.794200</td>\n",
       "      <td>-79.262029</td>\n",
       "      <td>43.790684</td>\n",
       "      <td>-79.264844</td>\n",
       "    </tr>\n",
       "    <tr>\n",
       "      <th>1</th>\n",
       "      <td>Alderwood, Long Branch</td>\n",
       "      <td>43.602414</td>\n",
       "      <td>-79.543484</td>\n",
       "      <td>43.609938</td>\n",
       "      <td>-79.549020</td>\n",
       "    </tr>\n",
       "    <tr>\n",
       "      <th>2</th>\n",
       "      <td>Bathurst Manor, Wilson Heights, Downsview North</td>\n",
       "      <td>43.754328</td>\n",
       "      <td>-79.442259</td>\n",
       "      <td>43.754598</td>\n",
       "      <td>-79.444207</td>\n",
       "    </tr>\n",
       "    <tr>\n",
       "      <th>3</th>\n",
       "      <td>Bayview Village</td>\n",
       "      <td>43.786947</td>\n",
       "      <td>-79.385975</td>\n",
       "      <td>43.789893</td>\n",
       "      <td>-79.386904</td>\n",
       "    </tr>\n",
       "    <tr>\n",
       "      <th>4</th>\n",
       "      <td>Bedford Park, Lawrence Manor East</td>\n",
       "      <td>43.733282</td>\n",
       "      <td>-79.419750</td>\n",
       "      <td>43.733094</td>\n",
       "      <td>-79.419416</td>\n",
       "    </tr>\n",
       "    <tr>\n",
       "      <th>...</th>\n",
       "      <td>...</td>\n",
       "      <td>...</td>\n",
       "      <td>...</td>\n",
       "      <td>...</td>\n",
       "      <td>...</td>\n",
       "    </tr>\n",
       "    <tr>\n",
       "      <th>85</th>\n",
       "      <td>Willowdale, Willowdale East</td>\n",
       "      <td>43.770120</td>\n",
       "      <td>-79.408493</td>\n",
       "      <td>43.769288</td>\n",
       "      <td>-79.411771</td>\n",
       "    </tr>\n",
       "    <tr>\n",
       "      <th>86</th>\n",
       "      <td>Willowdale, Willowdale West</td>\n",
       "      <td>43.782736</td>\n",
       "      <td>-79.442259</td>\n",
       "      <td>43.774325</td>\n",
       "      <td>-79.442651</td>\n",
       "    </tr>\n",
       "    <tr>\n",
       "      <th>87</th>\n",
       "      <td>Woburn</td>\n",
       "      <td>43.770992</td>\n",
       "      <td>-79.216917</td>\n",
       "      <td>43.764031</td>\n",
       "      <td>-79.219139</td>\n",
       "    </tr>\n",
       "    <tr>\n",
       "      <th>88</th>\n",
       "      <td>Woodbine Heights</td>\n",
       "      <td>43.695344</td>\n",
       "      <td>-79.318389</td>\n",
       "      <td>43.696180</td>\n",
       "      <td>-79.328958</td>\n",
       "    </tr>\n",
       "    <tr>\n",
       "      <th>89</th>\n",
       "      <td>York Mills West</td>\n",
       "      <td>43.752758</td>\n",
       "      <td>-79.400049</td>\n",
       "      <td>43.749712</td>\n",
       "      <td>-79.408065</td>\n",
       "    </tr>\n",
       "  </tbody>\n",
       "</table>\n",
       "<p>90 rows × 5 columns</p>\n",
       "</div>"
      ],
      "text/plain": [
       "                                       Neighborhood  Neighborhood Latitude  \\\n",
       "0                                         Agincourt              43.794200   \n",
       "1                            Alderwood, Long Branch              43.602414   \n",
       "2   Bathurst Manor, Wilson Heights, Downsview North              43.754328   \n",
       "3                                   Bayview Village              43.786947   \n",
       "4                 Bedford Park, Lawrence Manor East              43.733282   \n",
       "..                                              ...                    ...   \n",
       "85                      Willowdale, Willowdale East              43.770120   \n",
       "86                      Willowdale, Willowdale West              43.782736   \n",
       "87                                           Woburn              43.770992   \n",
       "88                                 Woodbine Heights              43.695344   \n",
       "89                                  York Mills West              43.752758   \n",
       "\n",
       "    Neighborhood Longitude  Venue Latitude  Venue Longitude  \n",
       "0               -79.262029       43.790684       -79.264844  \n",
       "1               -79.543484       43.609938       -79.549020  \n",
       "2               -79.442259       43.754598       -79.444207  \n",
       "3               -79.385975       43.789893       -79.386904  \n",
       "4               -79.419750       43.733094       -79.419416  \n",
       "..                     ...             ...              ...  \n",
       "85              -79.408493       43.769288       -79.411771  \n",
       "86              -79.442259       43.774325       -79.442651  \n",
       "87              -79.216917       43.764031       -79.219139  \n",
       "88              -79.318389       43.696180       -79.328958  \n",
       "89              -79.400049       43.749712       -79.408065  \n",
       "\n",
       "[90 rows x 5 columns]"
      ]
     },
     "execution_count": 92,
     "metadata": {},
     "output_type": "execute_result"
    }
   ],
   "source": [
    "toronto_restaurants.groupby('Neighborhood').mean().reset_index()"
   ]
  },
  {
   "cell_type": "code",
   "execution_count": 93,
   "metadata": {},
   "outputs": [
    {
     "data": {
      "text/html": [
       "<div>\n",
       "<style scoped>\n",
       "    .dataframe tbody tr th:only-of-type {\n",
       "        vertical-align: middle;\n",
       "    }\n",
       "\n",
       "    .dataframe tbody tr th {\n",
       "        vertical-align: top;\n",
       "    }\n",
       "\n",
       "    .dataframe thead th {\n",
       "        text-align: right;\n",
       "    }\n",
       "</style>\n",
       "<table border=\"1\" class=\"dataframe\">\n",
       "  <thead>\n",
       "    <tr style=\"text-align: right;\">\n",
       "      <th></th>\n",
       "      <th>Neighborhood</th>\n",
       "      <th>Neighborhood Latitude</th>\n",
       "      <th>Neighborhood Longitude</th>\n",
       "      <th>Venue</th>\n",
       "      <th>Venue Latitude</th>\n",
       "      <th>Venue Longitude</th>\n",
       "      <th>Venue Category</th>\n",
       "    </tr>\n",
       "  </thead>\n",
       "  <tbody>\n",
       "    <tr>\n",
       "      <th>0</th>\n",
       "      <td>Parkwoods</td>\n",
       "      <td>43.753259</td>\n",
       "      <td>-79.329656</td>\n",
       "      <td>Allwyn's Bakery</td>\n",
       "      <td>43.759840</td>\n",
       "      <td>-79.324719</td>\n",
       "      <td>Caribbean Restaurant</td>\n",
       "    </tr>\n",
       "    <tr>\n",
       "      <th>1</th>\n",
       "      <td>Parkwoods</td>\n",
       "      <td>43.753259</td>\n",
       "      <td>-79.329656</td>\n",
       "      <td>A&amp;W</td>\n",
       "      <td>43.760643</td>\n",
       "      <td>-79.326865</td>\n",
       "      <td>Fast Food Restaurant</td>\n",
       "    </tr>\n",
       "    <tr>\n",
       "      <th>2</th>\n",
       "      <td>Parkwoods</td>\n",
       "      <td>43.753259</td>\n",
       "      <td>-79.329656</td>\n",
       "      <td>Spicy Chicken House</td>\n",
       "      <td>43.760639</td>\n",
       "      <td>-79.325671</td>\n",
       "      <td>Chinese Restaurant</td>\n",
       "    </tr>\n",
       "    <tr>\n",
       "      <th>3</th>\n",
       "      <td>Victoria Village</td>\n",
       "      <td>43.725882</td>\n",
       "      <td>-79.315572</td>\n",
       "      <td>Portugril</td>\n",
       "      <td>43.725819</td>\n",
       "      <td>-79.312785</td>\n",
       "      <td>Portuguese Restaurant</td>\n",
       "    </tr>\n",
       "    <tr>\n",
       "      <th>4</th>\n",
       "      <td>Victoria Village</td>\n",
       "      <td>43.725882</td>\n",
       "      <td>-79.315572</td>\n",
       "      <td>The Frig</td>\n",
       "      <td>43.727051</td>\n",
       "      <td>-79.317418</td>\n",
       "      <td>French Restaurant</td>\n",
       "    </tr>\n",
       "  </tbody>\n",
       "</table>\n",
       "</div>"
      ],
      "text/plain": [
       "       Neighborhood  Neighborhood Latitude  Neighborhood Longitude  \\\n",
       "0         Parkwoods              43.753259              -79.329656   \n",
       "1         Parkwoods              43.753259              -79.329656   \n",
       "2         Parkwoods              43.753259              -79.329656   \n",
       "3  Victoria Village              43.725882              -79.315572   \n",
       "4  Victoria Village              43.725882              -79.315572   \n",
       "\n",
       "                 Venue  Venue Latitude  Venue Longitude         Venue Category  \n",
       "0      Allwyn's Bakery       43.759840       -79.324719   Caribbean Restaurant  \n",
       "1                  A&W       43.760643       -79.326865   Fast Food Restaurant  \n",
       "2  Spicy Chicken House       43.760639       -79.325671     Chinese Restaurant  \n",
       "3            Portugril       43.725819       -79.312785  Portuguese Restaurant  \n",
       "4             The Frig       43.727051       -79.317418      French Restaurant  "
      ]
     },
     "execution_count": 93,
     "metadata": {},
     "output_type": "execute_result"
    }
   ],
   "source": [
    "toronto_restaurants_merge = toronto_restaurants.head()"
   ]
  },
  {
   "cell_type": "code",
   "execution_count": 81,
   "metadata": {},
   "outputs": [],
   "source": [
    "restaurant_convert = toronto_restaurants.copy()"
   ]
  },
  {
   "cell_type": "code",
   "execution_count": 82,
   "metadata": {},
   "outputs": [],
   "source": [
    "for i in restaurant_convert.index:\n",
    "    if restaurant_convert.at[i,'Venue Category'] != 'Vietnamese Restaurant':\n",
    "        restaurant_convert.at[i,'Venue Category'] = 'Non-Vietnamese Restaurant'\n",
    "        "
   ]
  },
  {
   "cell_type": "code",
   "execution_count": 83,
   "metadata": {
    "scrolled": false
   },
   "outputs": [
    {
     "data": {
      "text/plain": [
       "Non-Vietnamese Restaurant    1133\n",
       "Vietnamese Restaurant          30\n",
       "Name: Venue Category, dtype: int64"
      ]
     },
     "execution_count": 83,
     "metadata": {},
     "output_type": "execute_result"
    }
   ],
   "source": [
    "restaurant_convert['Venue Category'].value_counts()"
   ]
  },
  {
   "cell_type": "code",
   "execution_count": 109,
   "metadata": {},
   "outputs": [
    {
     "data": {
      "text/html": [
       "<div>\n",
       "<style scoped>\n",
       "    .dataframe tbody tr th:only-of-type {\n",
       "        vertical-align: middle;\n",
       "    }\n",
       "\n",
       "    .dataframe tbody tr th {\n",
       "        vertical-align: top;\n",
       "    }\n",
       "\n",
       "    .dataframe thead th {\n",
       "        text-align: right;\n",
       "    }\n",
       "</style>\n",
       "<table border=\"1\" class=\"dataframe\">\n",
       "  <thead>\n",
       "    <tr style=\"text-align: right;\">\n",
       "      <th></th>\n",
       "      <th>Neighborhood</th>\n",
       "      <th>Neighborhood Latitude</th>\n",
       "      <th>Neighborhood Longitude</th>\n",
       "      <th>Venue</th>\n",
       "      <th>Venue Latitude</th>\n",
       "      <th>Venue Longitude</th>\n",
       "      <th>Venue Category</th>\n",
       "    </tr>\n",
       "  </thead>\n",
       "  <tbody>\n",
       "    <tr>\n",
       "      <th>0</th>\n",
       "      <td>Parkwoods</td>\n",
       "      <td>43.753259</td>\n",
       "      <td>-79.329656</td>\n",
       "      <td>Allwyn's Bakery</td>\n",
       "      <td>43.759840</td>\n",
       "      <td>-79.324719</td>\n",
       "      <td>Non-Vietnamese Restaurant</td>\n",
       "    </tr>\n",
       "    <tr>\n",
       "      <th>1</th>\n",
       "      <td>Parkwoods</td>\n",
       "      <td>43.753259</td>\n",
       "      <td>-79.329656</td>\n",
       "      <td>A&amp;W</td>\n",
       "      <td>43.760643</td>\n",
       "      <td>-79.326865</td>\n",
       "      <td>Non-Vietnamese Restaurant</td>\n",
       "    </tr>\n",
       "    <tr>\n",
       "      <th>2</th>\n",
       "      <td>Parkwoods</td>\n",
       "      <td>43.753259</td>\n",
       "      <td>-79.329656</td>\n",
       "      <td>Spicy Chicken House</td>\n",
       "      <td>43.760639</td>\n",
       "      <td>-79.325671</td>\n",
       "      <td>Non-Vietnamese Restaurant</td>\n",
       "    </tr>\n",
       "    <tr>\n",
       "      <th>3</th>\n",
       "      <td>Victoria Village</td>\n",
       "      <td>43.725882</td>\n",
       "      <td>-79.315572</td>\n",
       "      <td>Portugril</td>\n",
       "      <td>43.725819</td>\n",
       "      <td>-79.312785</td>\n",
       "      <td>Non-Vietnamese Restaurant</td>\n",
       "    </tr>\n",
       "    <tr>\n",
       "      <th>4</th>\n",
       "      <td>Victoria Village</td>\n",
       "      <td>43.725882</td>\n",
       "      <td>-79.315572</td>\n",
       "      <td>The Frig</td>\n",
       "      <td>43.727051</td>\n",
       "      <td>-79.317418</td>\n",
       "      <td>Non-Vietnamese Restaurant</td>\n",
       "    </tr>\n",
       "  </tbody>\n",
       "</table>\n",
       "</div>"
      ],
      "text/plain": [
       "       Neighborhood  Neighborhood Latitude  Neighborhood Longitude  \\\n",
       "0         Parkwoods              43.753259              -79.329656   \n",
       "1         Parkwoods              43.753259              -79.329656   \n",
       "2         Parkwoods              43.753259              -79.329656   \n",
       "3  Victoria Village              43.725882              -79.315572   \n",
       "4  Victoria Village              43.725882              -79.315572   \n",
       "\n",
       "                 Venue  Venue Latitude  Venue Longitude  \\\n",
       "0      Allwyn's Bakery       43.759840       -79.324719   \n",
       "1                  A&W       43.760643       -79.326865   \n",
       "2  Spicy Chicken House       43.760639       -79.325671   \n",
       "3            Portugril       43.725819       -79.312785   \n",
       "4             The Frig       43.727051       -79.317418   \n",
       "\n",
       "              Venue Category  \n",
       "0  Non-Vietnamese Restaurant  \n",
       "1  Non-Vietnamese Restaurant  \n",
       "2  Non-Vietnamese Restaurant  \n",
       "3  Non-Vietnamese Restaurant  \n",
       "4  Non-Vietnamese Restaurant  "
      ]
     },
     "execution_count": 109,
     "metadata": {},
     "output_type": "execute_result"
    }
   ],
   "source": [
    "restaurant_convert.head()"
   ]
  },
  {
   "cell_type": "markdown",
   "metadata": {},
   "source": [
    "## Analyze Each Neighborhood"
   ]
  },
  {
   "cell_type": "code",
   "execution_count": 84,
   "metadata": {},
   "outputs": [
    {
     "data": {
      "text/plain": [
       "(1163, 3)"
      ]
     },
     "execution_count": 84,
     "metadata": {},
     "output_type": "execute_result"
    }
   ],
   "source": [
    "# one hot encoding\n",
    "toronto_onehot = pd.get_dummies(restaurant_convert[['Venue Category']], prefix=\"\", prefix_sep=\"\")\n",
    "\n",
    "# add neighborhood column back to dataframe\n",
    "toronto_onehot['Neighborhood'] = restaurant_convert['Neighborhood'] \n",
    "\n",
    "# move neighborhood column to the first column\n",
    "fixed_columns = [toronto_onehot.columns[-1]] + list(toronto_onehot.columns[:-1])\n",
    "toronto_onehot = toronto_onehot[fixed_columns]\n",
    "\n",
    "toronto_onehot.head()\n",
    "toronto_onehot.shape"
   ]
  },
  {
   "cell_type": "code",
   "execution_count": 85,
   "metadata": {
    "scrolled": false
   },
   "outputs": [
    {
     "data": {
      "text/html": [
       "<div>\n",
       "<style scoped>\n",
       "    .dataframe tbody tr th:only-of-type {\n",
       "        vertical-align: middle;\n",
       "    }\n",
       "\n",
       "    .dataframe tbody tr th {\n",
       "        vertical-align: top;\n",
       "    }\n",
       "\n",
       "    .dataframe thead th {\n",
       "        text-align: right;\n",
       "    }\n",
       "</style>\n",
       "<table border=\"1\" class=\"dataframe\">\n",
       "  <thead>\n",
       "    <tr style=\"text-align: right;\">\n",
       "      <th></th>\n",
       "      <th>Neighborhood</th>\n",
       "      <th>Non-Vietnamese Restaurant</th>\n",
       "      <th>Vietnamese Restaurant</th>\n",
       "    </tr>\n",
       "  </thead>\n",
       "  <tbody>\n",
       "    <tr>\n",
       "      <th>0</th>\n",
       "      <td>Parkwoods</td>\n",
       "      <td>1</td>\n",
       "      <td>0</td>\n",
       "    </tr>\n",
       "    <tr>\n",
       "      <th>1</th>\n",
       "      <td>Parkwoods</td>\n",
       "      <td>1</td>\n",
       "      <td>0</td>\n",
       "    </tr>\n",
       "    <tr>\n",
       "      <th>2</th>\n",
       "      <td>Parkwoods</td>\n",
       "      <td>1</td>\n",
       "      <td>0</td>\n",
       "    </tr>\n",
       "    <tr>\n",
       "      <th>3</th>\n",
       "      <td>Victoria Village</td>\n",
       "      <td>1</td>\n",
       "      <td>0</td>\n",
       "    </tr>\n",
       "    <tr>\n",
       "      <th>4</th>\n",
       "      <td>Victoria Village</td>\n",
       "      <td>1</td>\n",
       "      <td>0</td>\n",
       "    </tr>\n",
       "  </tbody>\n",
       "</table>\n",
       "</div>"
      ],
      "text/plain": [
       "       Neighborhood  Non-Vietnamese Restaurant  Vietnamese Restaurant\n",
       "0         Parkwoods                          1                      0\n",
       "1         Parkwoods                          1                      0\n",
       "2         Parkwoods                          1                      0\n",
       "3  Victoria Village                          1                      0\n",
       "4  Victoria Village                          1                      0"
      ]
     },
     "execution_count": 85,
     "metadata": {},
     "output_type": "execute_result"
    }
   ],
   "source": [
    "toronto_onehot.head()"
   ]
  },
  {
   "cell_type": "code",
   "execution_count": 67,
   "metadata": {},
   "outputs": [
    {
     "data": {
      "text/plain": [
       "<pandas.core.groupby.generic.DataFrameGroupBy object at 0x000002462FC171C8>"
      ]
     },
     "execution_count": 67,
     "metadata": {},
     "output_type": "execute_result"
    }
   ],
   "source": [
    "toronto_onehot.groupby('Neighborhood')"
   ]
  },
  {
   "cell_type": "markdown",
   "metadata": {},
   "source": [
    "### let's group rows by neighborhood and by taking the mean of the frequency of occurrence of each category"
   ]
  },
  {
   "cell_type": "code",
   "execution_count": 86,
   "metadata": {
    "scrolled": true
   },
   "outputs": [
    {
     "data": {
      "text/html": [
       "<div>\n",
       "<style scoped>\n",
       "    .dataframe tbody tr th:only-of-type {\n",
       "        vertical-align: middle;\n",
       "    }\n",
       "\n",
       "    .dataframe tbody tr th {\n",
       "        vertical-align: top;\n",
       "    }\n",
       "\n",
       "    .dataframe thead th {\n",
       "        text-align: right;\n",
       "    }\n",
       "</style>\n",
       "<table border=\"1\" class=\"dataframe\">\n",
       "  <thead>\n",
       "    <tr style=\"text-align: right;\">\n",
       "      <th></th>\n",
       "      <th>Neighborhood</th>\n",
       "      <th>Non-Vietnamese Restaurant</th>\n",
       "      <th>Vietnamese Restaurant</th>\n",
       "    </tr>\n",
       "  </thead>\n",
       "  <tbody>\n",
       "    <tr>\n",
       "      <th>0</th>\n",
       "      <td>Agincourt</td>\n",
       "      <td>0.947368</td>\n",
       "      <td>0.052632</td>\n",
       "    </tr>\n",
       "    <tr>\n",
       "      <th>1</th>\n",
       "      <td>Alderwood, Long Branch</td>\n",
       "      <td>1.000000</td>\n",
       "      <td>0.000000</td>\n",
       "    </tr>\n",
       "    <tr>\n",
       "      <th>2</th>\n",
       "      <td>Bathurst Manor, Wilson Heights, Downsview North</td>\n",
       "      <td>1.000000</td>\n",
       "      <td>0.000000</td>\n",
       "    </tr>\n",
       "    <tr>\n",
       "      <th>3</th>\n",
       "      <td>Bayview Village</td>\n",
       "      <td>1.000000</td>\n",
       "      <td>0.000000</td>\n",
       "    </tr>\n",
       "    <tr>\n",
       "      <th>4</th>\n",
       "      <td>Bedford Park, Lawrence Manor East</td>\n",
       "      <td>1.000000</td>\n",
       "      <td>0.000000</td>\n",
       "    </tr>\n",
       "    <tr>\n",
       "      <th>...</th>\n",
       "      <td>...</td>\n",
       "      <td>...</td>\n",
       "      <td>...</td>\n",
       "    </tr>\n",
       "    <tr>\n",
       "      <th>85</th>\n",
       "      <td>Willowdale, Willowdale East</td>\n",
       "      <td>0.972222</td>\n",
       "      <td>0.027778</td>\n",
       "    </tr>\n",
       "    <tr>\n",
       "      <th>86</th>\n",
       "      <td>Willowdale, Willowdale West</td>\n",
       "      <td>1.000000</td>\n",
       "      <td>0.000000</td>\n",
       "    </tr>\n",
       "    <tr>\n",
       "      <th>87</th>\n",
       "      <td>Woburn</td>\n",
       "      <td>1.000000</td>\n",
       "      <td>0.000000</td>\n",
       "    </tr>\n",
       "    <tr>\n",
       "      <th>88</th>\n",
       "      <td>Woodbine Heights</td>\n",
       "      <td>1.000000</td>\n",
       "      <td>0.000000</td>\n",
       "    </tr>\n",
       "    <tr>\n",
       "      <th>89</th>\n",
       "      <td>York Mills West</td>\n",
       "      <td>1.000000</td>\n",
       "      <td>0.000000</td>\n",
       "    </tr>\n",
       "  </tbody>\n",
       "</table>\n",
       "<p>90 rows × 3 columns</p>\n",
       "</div>"
      ],
      "text/plain": [
       "                                       Neighborhood  \\\n",
       "0                                         Agincourt   \n",
       "1                            Alderwood, Long Branch   \n",
       "2   Bathurst Manor, Wilson Heights, Downsview North   \n",
       "3                                   Bayview Village   \n",
       "4                 Bedford Park, Lawrence Manor East   \n",
       "..                                              ...   \n",
       "85                      Willowdale, Willowdale East   \n",
       "86                      Willowdale, Willowdale West   \n",
       "87                                           Woburn   \n",
       "88                                 Woodbine Heights   \n",
       "89                                  York Mills West   \n",
       "\n",
       "    Non-Vietnamese Restaurant  Vietnamese Restaurant  \n",
       "0                    0.947368               0.052632  \n",
       "1                    1.000000               0.000000  \n",
       "2                    1.000000               0.000000  \n",
       "3                    1.000000               0.000000  \n",
       "4                    1.000000               0.000000  \n",
       "..                        ...                    ...  \n",
       "85                   0.972222               0.027778  \n",
       "86                   1.000000               0.000000  \n",
       "87                   1.000000               0.000000  \n",
       "88                   1.000000               0.000000  \n",
       "89                   1.000000               0.000000  \n",
       "\n",
       "[90 rows x 3 columns]"
      ]
     },
     "execution_count": 86,
     "metadata": {},
     "output_type": "execute_result"
    }
   ],
   "source": [
    "toronto_grouped = toronto_onehot.groupby('Neighborhood').mean().reset_index()\n",
    "toronto_grouped"
   ]
  },
  {
   "cell_type": "code",
   "execution_count": 110,
   "metadata": {},
   "outputs": [],
   "source": [
    "result = pd.merge(top_neighborhood,\n",
    "                 toronto_grouped[['Neighborhood', 'Vietnamese Restaurant']],\n",
    "                 on='Neighborhood')"
   ]
  },
  {
   "cell_type": "code",
   "execution_count": 116,
   "metadata": {
    "scrolled": true
   },
   "outputs": [
    {
     "data": {
      "text/html": [
       "<div>\n",
       "<style scoped>\n",
       "    .dataframe tbody tr th:only-of-type {\n",
       "        vertical-align: middle;\n",
       "    }\n",
       "\n",
       "    .dataframe tbody tr th {\n",
       "        vertical-align: top;\n",
       "    }\n",
       "\n",
       "    .dataframe thead th {\n",
       "        text-align: right;\n",
       "    }\n",
       "</style>\n",
       "<table border=\"1\" class=\"dataframe\">\n",
       "  <thead>\n",
       "    <tr style=\"text-align: right;\">\n",
       "      <th></th>\n",
       "      <th>Neighborhood</th>\n",
       "      <th>Venue Category</th>\n",
       "      <th>Vietnamese Restaurant</th>\n",
       "    </tr>\n",
       "  </thead>\n",
       "  <tbody>\n",
       "    <tr>\n",
       "      <th>8</th>\n",
       "      <td>Studio District</td>\n",
       "      <td>15</td>\n",
       "      <td>14.285714</td>\n",
       "    </tr>\n",
       "    <tr>\n",
       "      <th>6</th>\n",
       "      <td>Kensington Market, Chinatown, Grange Park</td>\n",
       "      <td>15</td>\n",
       "      <td>8.333333</td>\n",
       "    </tr>\n",
       "    <tr>\n",
       "      <th>0</th>\n",
       "      <td>Little Portugal, Trinity</td>\n",
       "      <td>18</td>\n",
       "      <td>6.451613</td>\n",
       "    </tr>\n",
       "    <tr>\n",
       "      <th>2</th>\n",
       "      <td>University of Toronto, Harbord</td>\n",
       "      <td>18</td>\n",
       "      <td>3.703704</td>\n",
       "    </tr>\n",
       "    <tr>\n",
       "      <th>3</th>\n",
       "      <td>Christie</td>\n",
       "      <td>17</td>\n",
       "      <td>2.941176</td>\n",
       "    </tr>\n",
       "    <tr>\n",
       "      <th>9</th>\n",
       "      <td>Willowdale, Willowdale East</td>\n",
       "      <td>14</td>\n",
       "      <td>2.777778</td>\n",
       "    </tr>\n",
       "    <tr>\n",
       "      <th>1</th>\n",
       "      <td>Davisville</td>\n",
       "      <td>18</td>\n",
       "      <td>2.564103</td>\n",
       "    </tr>\n",
       "    <tr>\n",
       "      <th>4</th>\n",
       "      <td>The Annex, North Midtown, Yorkville</td>\n",
       "      <td>16</td>\n",
       "      <td>0.000000</td>\n",
       "    </tr>\n",
       "    <tr>\n",
       "      <th>5</th>\n",
       "      <td>The Danforth West, Riverdale</td>\n",
       "      <td>16</td>\n",
       "      <td>0.000000</td>\n",
       "    </tr>\n",
       "    <tr>\n",
       "      <th>7</th>\n",
       "      <td>East Toronto, Broadview North (Old East York)</td>\n",
       "      <td>15</td>\n",
       "      <td>0.000000</td>\n",
       "    </tr>\n",
       "  </tbody>\n",
       "</table>\n",
       "</div>"
      ],
      "text/plain": [
       "                                    Neighborhood  Venue Category  \\\n",
       "8                                Studio District              15   \n",
       "6      Kensington Market, Chinatown, Grange Park              15   \n",
       "0                       Little Portugal, Trinity              18   \n",
       "2                 University of Toronto, Harbord              18   \n",
       "3                                       Christie              17   \n",
       "9                    Willowdale, Willowdale East              14   \n",
       "1                                     Davisville              18   \n",
       "4            The Annex, North Midtown, Yorkville              16   \n",
       "5                   The Danforth West, Riverdale              16   \n",
       "7  East Toronto, Broadview North (Old East York)              15   \n",
       "\n",
       "   Vietnamese Restaurant  \n",
       "8              14.285714  \n",
       "6               8.333333  \n",
       "0               6.451613  \n",
       "2               3.703704  \n",
       "3               2.941176  \n",
       "9               2.777778  \n",
       "1               2.564103  \n",
       "4               0.000000  \n",
       "5               0.000000  \n",
       "7               0.000000  "
      ]
     },
     "execution_count": 116,
     "metadata": {},
     "output_type": "execute_result"
    }
   ],
   "source": [
    "result"
   ]
  },
  {
   "cell_type": "code",
   "execution_count": 112,
   "metadata": {},
   "outputs": [],
   "source": [
    "result['Vietnamese Restaurant'] = result['Vietnamese Restaurant'] * 100"
   ]
  },
  {
   "cell_type": "code",
   "execution_count": 118,
   "metadata": {},
   "outputs": [],
   "source": [
    "result = result.sort_values(by='Vietnamese Restaurant')"
   ]
  },
  {
   "cell_type": "markdown",
   "metadata": {},
   "source": [
    "# list of neighborhoods with most restaurants and least Vietnamese restaurants"
   ]
  },
  {
   "cell_type": "code",
   "execution_count": 119,
   "metadata": {
    "scrolled": true
   },
   "outputs": [
    {
     "data": {
      "text/html": [
       "<div>\n",
       "<style scoped>\n",
       "    .dataframe tbody tr th:only-of-type {\n",
       "        vertical-align: middle;\n",
       "    }\n",
       "\n",
       "    .dataframe tbody tr th {\n",
       "        vertical-align: top;\n",
       "    }\n",
       "\n",
       "    .dataframe thead th {\n",
       "        text-align: right;\n",
       "    }\n",
       "</style>\n",
       "<table border=\"1\" class=\"dataframe\">\n",
       "  <thead>\n",
       "    <tr style=\"text-align: right;\">\n",
       "      <th></th>\n",
       "      <th>Neighborhood</th>\n",
       "      <th>Venue Category</th>\n",
       "      <th>Vietnamese Restaurant</th>\n",
       "    </tr>\n",
       "  </thead>\n",
       "  <tbody>\n",
       "    <tr>\n",
       "      <th>4</th>\n",
       "      <td>The Annex, North Midtown, Yorkville</td>\n",
       "      <td>16</td>\n",
       "      <td>0.000000</td>\n",
       "    </tr>\n",
       "    <tr>\n",
       "      <th>5</th>\n",
       "      <td>The Danforth West, Riverdale</td>\n",
       "      <td>16</td>\n",
       "      <td>0.000000</td>\n",
       "    </tr>\n",
       "    <tr>\n",
       "      <th>7</th>\n",
       "      <td>East Toronto, Broadview North (Old East York)</td>\n",
       "      <td>15</td>\n",
       "      <td>0.000000</td>\n",
       "    </tr>\n",
       "    <tr>\n",
       "      <th>1</th>\n",
       "      <td>Davisville</td>\n",
       "      <td>18</td>\n",
       "      <td>2.564103</td>\n",
       "    </tr>\n",
       "    <tr>\n",
       "      <th>9</th>\n",
       "      <td>Willowdale, Willowdale East</td>\n",
       "      <td>14</td>\n",
       "      <td>2.777778</td>\n",
       "    </tr>\n",
       "    <tr>\n",
       "      <th>3</th>\n",
       "      <td>Christie</td>\n",
       "      <td>17</td>\n",
       "      <td>2.941176</td>\n",
       "    </tr>\n",
       "    <tr>\n",
       "      <th>2</th>\n",
       "      <td>University of Toronto, Harbord</td>\n",
       "      <td>18</td>\n",
       "      <td>3.703704</td>\n",
       "    </tr>\n",
       "    <tr>\n",
       "      <th>0</th>\n",
       "      <td>Little Portugal, Trinity</td>\n",
       "      <td>18</td>\n",
       "      <td>6.451613</td>\n",
       "    </tr>\n",
       "    <tr>\n",
       "      <th>6</th>\n",
       "      <td>Kensington Market, Chinatown, Grange Park</td>\n",
       "      <td>15</td>\n",
       "      <td>8.333333</td>\n",
       "    </tr>\n",
       "    <tr>\n",
       "      <th>8</th>\n",
       "      <td>Studio District</td>\n",
       "      <td>15</td>\n",
       "      <td>14.285714</td>\n",
       "    </tr>\n",
       "  </tbody>\n",
       "</table>\n",
       "</div>"
      ],
      "text/plain": [
       "                                    Neighborhood  Venue Category  \\\n",
       "4            The Annex, North Midtown, Yorkville              16   \n",
       "5                   The Danforth West, Riverdale              16   \n",
       "7  East Toronto, Broadview North (Old East York)              15   \n",
       "1                                     Davisville              18   \n",
       "9                    Willowdale, Willowdale East              14   \n",
       "3                                       Christie              17   \n",
       "2                 University of Toronto, Harbord              18   \n",
       "0                       Little Portugal, Trinity              18   \n",
       "6      Kensington Market, Chinatown, Grange Park              15   \n",
       "8                                Studio District              15   \n",
       "\n",
       "   Vietnamese Restaurant  \n",
       "4               0.000000  \n",
       "5               0.000000  \n",
       "7               0.000000  \n",
       "1               2.564103  \n",
       "9               2.777778  \n",
       "3               2.941176  \n",
       "2               3.703704  \n",
       "0               6.451613  \n",
       "6               8.333333  \n",
       "8              14.285714  "
      ]
     },
     "execution_count": 119,
     "metadata": {},
     "output_type": "execute_result"
    }
   ],
   "source": [
    "result"
   ]
  },
  {
   "cell_type": "code",
   "execution_count": null,
   "metadata": {},
   "outputs": [],
   "source": []
  }
 ],
 "metadata": {
  "kernelspec": {
   "display_name": "Python 3",
   "language": "python",
   "name": "python3"
  },
  "language_info": {
   "codemirror_mode": {
    "name": "ipython",
    "version": 3
   },
   "file_extension": ".py",
   "mimetype": "text/x-python",
   "name": "python",
   "nbconvert_exporter": "python",
   "pygments_lexer": "ipython3",
   "version": "3.7.6"
  }
 },
 "nbformat": 4,
 "nbformat_minor": 4
}
